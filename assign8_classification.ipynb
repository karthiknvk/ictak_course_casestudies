{
 "cells": [
  {
   "cell_type": "markdown",
   "metadata": {},
   "source": [
    "<h1>ASSIGNMENT ON CLASSIFICATION</h1>"
   ]
  },
  {
   "cell_type": "markdown",
   "metadata": {},
   "source": [
    "<h3>1. Read the dataset to python environment</h3>"
   ]
  },
  {
   "cell_type": "code",
   "execution_count": 7,
   "metadata": {},
   "outputs": [],
   "source": [
    "import numpy as np\n",
    "import pandas as pd\n",
    "import seaborn as sns\n",
    "import matplotlib.pyplot as plt"
   ]
  },
  {
   "cell_type": "code",
   "execution_count": 8,
   "metadata": {},
   "outputs": [],
   "source": [
    "data=pd.read_excel('iris.xls')"
   ]
  },
  {
   "cell_type": "code",
   "execution_count": 9,
   "metadata": {},
   "outputs": [
    {
     "data": {
      "text/html": [
       "<div>\n",
       "<style scoped>\n",
       "    .dataframe tbody tr th:only-of-type {\n",
       "        vertical-align: middle;\n",
       "    }\n",
       "\n",
       "    .dataframe tbody tr th {\n",
       "        vertical-align: top;\n",
       "    }\n",
       "\n",
       "    .dataframe thead th {\n",
       "        text-align: right;\n",
       "    }\n",
       "</style>\n",
       "<table border=\"1\" class=\"dataframe\">\n",
       "  <thead>\n",
       "    <tr style=\"text-align: right;\">\n",
       "      <th></th>\n",
       "      <th>SL</th>\n",
       "      <th>SW</th>\n",
       "      <th>PL</th>\n",
       "      <th>PW</th>\n",
       "      <th>Classification</th>\n",
       "    </tr>\n",
       "  </thead>\n",
       "  <tbody>\n",
       "    <tr>\n",
       "      <th>0</th>\n",
       "      <td>5.1</td>\n",
       "      <td>3.5</td>\n",
       "      <td>1.4</td>\n",
       "      <td>0.2</td>\n",
       "      <td>Iris-setosa</td>\n",
       "    </tr>\n",
       "    <tr>\n",
       "      <th>1</th>\n",
       "      <td>4.9</td>\n",
       "      <td>3.0</td>\n",
       "      <td>1.4</td>\n",
       "      <td>0.2</td>\n",
       "      <td>Iris-setosa</td>\n",
       "    </tr>\n",
       "    <tr>\n",
       "      <th>2</th>\n",
       "      <td>NaN</td>\n",
       "      <td>3.2</td>\n",
       "      <td>1.3</td>\n",
       "      <td>0.2</td>\n",
       "      <td>Iris-setosa</td>\n",
       "    </tr>\n",
       "    <tr>\n",
       "      <th>3</th>\n",
       "      <td>4.6</td>\n",
       "      <td>3.1</td>\n",
       "      <td>1.5</td>\n",
       "      <td>0.2</td>\n",
       "      <td>Iris-setosa</td>\n",
       "    </tr>\n",
       "    <tr>\n",
       "      <th>4</th>\n",
       "      <td>5.0</td>\n",
       "      <td>3.6</td>\n",
       "      <td>1.4</td>\n",
       "      <td>0.2</td>\n",
       "      <td>Iris-setosa</td>\n",
       "    </tr>\n",
       "    <tr>\n",
       "      <th>...</th>\n",
       "      <td>...</td>\n",
       "      <td>...</td>\n",
       "      <td>...</td>\n",
       "      <td>...</td>\n",
       "      <td>...</td>\n",
       "    </tr>\n",
       "    <tr>\n",
       "      <th>145</th>\n",
       "      <td>6.7</td>\n",
       "      <td>3.0</td>\n",
       "      <td>5.2</td>\n",
       "      <td>2.3</td>\n",
       "      <td>Iris-virginica</td>\n",
       "    </tr>\n",
       "    <tr>\n",
       "      <th>146</th>\n",
       "      <td>6.3</td>\n",
       "      <td>2.5</td>\n",
       "      <td>5.0</td>\n",
       "      <td>1.9</td>\n",
       "      <td>Iris-virginica</td>\n",
       "    </tr>\n",
       "    <tr>\n",
       "      <th>147</th>\n",
       "      <td>6.5</td>\n",
       "      <td>3.0</td>\n",
       "      <td>NaN</td>\n",
       "      <td>2.0</td>\n",
       "      <td>Iris-virginica</td>\n",
       "    </tr>\n",
       "    <tr>\n",
       "      <th>148</th>\n",
       "      <td>6.2</td>\n",
       "      <td>3.4</td>\n",
       "      <td>5.4</td>\n",
       "      <td>2.3</td>\n",
       "      <td>Iris-virginica</td>\n",
       "    </tr>\n",
       "    <tr>\n",
       "      <th>149</th>\n",
       "      <td>5.9</td>\n",
       "      <td>3.0</td>\n",
       "      <td>5.1</td>\n",
       "      <td>1.8</td>\n",
       "      <td>Iris-virginica</td>\n",
       "    </tr>\n",
       "  </tbody>\n",
       "</table>\n",
       "<p>150 rows × 5 columns</p>\n",
       "</div>"
      ],
      "text/plain": [
       "      SL   SW   PL   PW  Classification\n",
       "0    5.1  3.5  1.4  0.2     Iris-setosa\n",
       "1    4.9  3.0  1.4  0.2     Iris-setosa\n",
       "2    NaN  3.2  1.3  0.2     Iris-setosa\n",
       "3    4.6  3.1  1.5  0.2     Iris-setosa\n",
       "4    5.0  3.6  1.4  0.2     Iris-setosa\n",
       "..   ...  ...  ...  ...             ...\n",
       "145  6.7  3.0  5.2  2.3  Iris-virginica\n",
       "146  6.3  2.5  5.0  1.9  Iris-virginica\n",
       "147  6.5  3.0  NaN  2.0  Iris-virginica\n",
       "148  6.2  3.4  5.4  2.3  Iris-virginica\n",
       "149  5.9  3.0  5.1  1.8  Iris-virginica\n",
       "\n",
       "[150 rows x 5 columns]"
      ]
     },
     "execution_count": 9,
     "metadata": {},
     "output_type": "execute_result"
    }
   ],
   "source": [
    "data"
   ]
  },
  {
   "cell_type": "code",
   "execution_count": 10,
   "metadata": {},
   "outputs": [
    {
     "name": "stdout",
     "output_type": "stream",
     "text": [
      "<class 'pandas.core.frame.DataFrame'>\n",
      "RangeIndex: 150 entries, 0 to 149\n",
      "Data columns (total 5 columns):\n",
      " #   Column          Non-Null Count  Dtype  \n",
      "---  ------          --------------  -----  \n",
      " 0   SL              143 non-null    float64\n",
      " 1   SW              144 non-null    float64\n",
      " 2   PL              144 non-null    float64\n",
      " 3   PW              150 non-null    float64\n",
      " 4   Classification  150 non-null    object \n",
      "dtypes: float64(4), object(1)\n",
      "memory usage: 6.0+ KB\n"
     ]
    }
   ],
   "source": [
    "data.info()"
   ]
  },
  {
   "cell_type": "code",
   "execution_count": 11,
   "metadata": {},
   "outputs": [
    {
     "data": {
      "text/html": [
       "<div>\n",
       "<style scoped>\n",
       "    .dataframe tbody tr th:only-of-type {\n",
       "        vertical-align: middle;\n",
       "    }\n",
       "\n",
       "    .dataframe tbody tr th {\n",
       "        vertical-align: top;\n",
       "    }\n",
       "\n",
       "    .dataframe thead th {\n",
       "        text-align: right;\n",
       "    }\n",
       "</style>\n",
       "<table border=\"1\" class=\"dataframe\">\n",
       "  <thead>\n",
       "    <tr style=\"text-align: right;\">\n",
       "      <th></th>\n",
       "      <th>SL</th>\n",
       "      <th>SW</th>\n",
       "      <th>PL</th>\n",
       "      <th>PW</th>\n",
       "    </tr>\n",
       "  </thead>\n",
       "  <tbody>\n",
       "    <tr>\n",
       "      <th>count</th>\n",
       "      <td>143.000000</td>\n",
       "      <td>144.000000</td>\n",
       "      <td>144.000000</td>\n",
       "      <td>150.000000</td>\n",
       "    </tr>\n",
       "    <tr>\n",
       "      <th>mean</th>\n",
       "      <td>5.855944</td>\n",
       "      <td>3.049306</td>\n",
       "      <td>3.756250</td>\n",
       "      <td>1.198667</td>\n",
       "    </tr>\n",
       "    <tr>\n",
       "      <th>std</th>\n",
       "      <td>0.828168</td>\n",
       "      <td>0.430644</td>\n",
       "      <td>1.761306</td>\n",
       "      <td>0.763161</td>\n",
       "    </tr>\n",
       "    <tr>\n",
       "      <th>min</th>\n",
       "      <td>4.300000</td>\n",
       "      <td>2.000000</td>\n",
       "      <td>1.000000</td>\n",
       "      <td>0.100000</td>\n",
       "    </tr>\n",
       "    <tr>\n",
       "      <th>25%</th>\n",
       "      <td>5.100000</td>\n",
       "      <td>2.800000</td>\n",
       "      <td>1.600000</td>\n",
       "      <td>0.300000</td>\n",
       "    </tr>\n",
       "    <tr>\n",
       "      <th>50%</th>\n",
       "      <td>5.800000</td>\n",
       "      <td>3.000000</td>\n",
       "      <td>4.350000</td>\n",
       "      <td>1.300000</td>\n",
       "    </tr>\n",
       "    <tr>\n",
       "      <th>75%</th>\n",
       "      <td>6.400000</td>\n",
       "      <td>3.300000</td>\n",
       "      <td>5.100000</td>\n",
       "      <td>1.800000</td>\n",
       "    </tr>\n",
       "    <tr>\n",
       "      <th>max</th>\n",
       "      <td>7.900000</td>\n",
       "      <td>4.400000</td>\n",
       "      <td>6.900000</td>\n",
       "      <td>2.500000</td>\n",
       "    </tr>\n",
       "  </tbody>\n",
       "</table>\n",
       "</div>"
      ],
      "text/plain": [
       "               SL          SW          PL          PW\n",
       "count  143.000000  144.000000  144.000000  150.000000\n",
       "mean     5.855944    3.049306    3.756250    1.198667\n",
       "std      0.828168    0.430644    1.761306    0.763161\n",
       "min      4.300000    2.000000    1.000000    0.100000\n",
       "25%      5.100000    2.800000    1.600000    0.300000\n",
       "50%      5.800000    3.000000    4.350000    1.300000\n",
       "75%      6.400000    3.300000    5.100000    1.800000\n",
       "max      7.900000    4.400000    6.900000    2.500000"
      ]
     },
     "execution_count": 11,
     "metadata": {},
     "output_type": "execute_result"
    }
   ],
   "source": [
    "data.describe()"
   ]
  },
  {
   "cell_type": "markdown",
   "metadata": {},
   "source": [
    "<h3>2. Do the necessary pre-processing steps</h3>\n"
   ]
  },
  {
   "cell_type": "code",
   "execution_count": 12,
   "metadata": {},
   "outputs": [
    {
     "data": {
      "text/plain": [
       "SL                7\n",
       "SW                6\n",
       "PL                6\n",
       "PW                0\n",
       "Classification    0\n",
       "dtype: int64"
      ]
     },
     "execution_count": 12,
     "metadata": {},
     "output_type": "execute_result"
    }
   ],
   "source": [
    "data.isna().sum()"
   ]
  },
  {
   "cell_type": "code",
   "execution_count": 13,
   "metadata": {},
   "outputs": [
    {
     "data": {
      "text/plain": [
       "array([[<Axes: title={'center': 'SL'}>, <Axes: title={'center': 'SW'}>],\n",
       "       [<Axes: title={'center': 'PL'}>, <Axes: title={'center': 'PW'}>]],\n",
       "      dtype=object)"
      ]
     },
     "execution_count": 13,
     "metadata": {},
     "output_type": "execute_result"
    },
    {
     "data": {
      "image/png": "[encoded data removed]",
      "text/plain": [
       "<Figure size 1800x1500 with 4 Axes>"
      ]
     },
     "metadata": {},
     "output_type": "display_data"
    }
   ],
   "source": [
    "col_freq_graph=data.select_dtypes(include='float64')\n",
    "col_freq_graph.hist(figsize=(18,15))"
   ]
  },
  {
   "cell_type": "code",
   "execution_count": 14,
   "metadata": {},
   "outputs": [],
   "source": [
    "data['SW']=data['SW'].fillna(data['SW'].mean())\n",
    "data['SL']=data['SL'].fillna(data['SL'].mean())\n",
    "data['PW']=data['PW'].fillna(data['PW'].median())\n",
    "data['PL']=data['PL'].fillna(data['PL'].median())"
   ]
  },
  {
   "cell_type": "code",
   "execution_count": 15,
   "metadata": {},
   "outputs": [
    {
     "data": {
      "text/plain": [
       "SL                0\n",
       "SW                0\n",
       "PL                0\n",
       "PW                0\n",
       "Classification    0\n",
       "dtype: int64"
      ]
     },
     "execution_count": 15,
     "metadata": {},
     "output_type": "execute_result"
    }
   ],
   "source": [
    "data.isna().sum()"
   ]
  },
  {
   "cell_type": "code",
   "execution_count": 16,
   "metadata": {},
   "outputs": [
    {
     "data": {
      "text/html": [
       "<div>\n",
       "<style scoped>\n",
       "    .dataframe tbody tr th:only-of-type {\n",
       "        vertical-align: middle;\n",
       "    }\n",
       "\n",
       "    .dataframe tbody tr th {\n",
       "        vertical-align: top;\n",
       "    }\n",
       "\n",
       "    .dataframe thead th {\n",
       "        text-align: right;\n",
       "    }\n",
       "</style>\n",
       "<table border=\"1\" class=\"dataframe\">\n",
       "  <thead>\n",
       "    <tr style=\"text-align: right;\">\n",
       "      <th></th>\n",
       "      <th>SL</th>\n",
       "      <th>SW</th>\n",
       "      <th>PL</th>\n",
       "      <th>PW</th>\n",
       "      <th>Classification</th>\n",
       "    </tr>\n",
       "  </thead>\n",
       "  <tbody>\n",
       "    <tr>\n",
       "      <th>0</th>\n",
       "      <td>5.100000</td>\n",
       "      <td>3.5</td>\n",
       "      <td>1.40</td>\n",
       "      <td>0.2</td>\n",
       "      <td>Iris-setosa</td>\n",
       "    </tr>\n",
       "    <tr>\n",
       "      <th>1</th>\n",
       "      <td>4.900000</td>\n",
       "      <td>3.0</td>\n",
       "      <td>1.40</td>\n",
       "      <td>0.2</td>\n",
       "      <td>Iris-setosa</td>\n",
       "    </tr>\n",
       "    <tr>\n",
       "      <th>2</th>\n",
       "      <td>5.855944</td>\n",
       "      <td>3.2</td>\n",
       "      <td>1.30</td>\n",
       "      <td>0.2</td>\n",
       "      <td>Iris-setosa</td>\n",
       "    </tr>\n",
       "    <tr>\n",
       "      <th>3</th>\n",
       "      <td>4.600000</td>\n",
       "      <td>3.1</td>\n",
       "      <td>1.50</td>\n",
       "      <td>0.2</td>\n",
       "      <td>Iris-setosa</td>\n",
       "    </tr>\n",
       "    <tr>\n",
       "      <th>4</th>\n",
       "      <td>5.000000</td>\n",
       "      <td>3.6</td>\n",
       "      <td>1.40</td>\n",
       "      <td>0.2</td>\n",
       "      <td>Iris-setosa</td>\n",
       "    </tr>\n",
       "    <tr>\n",
       "      <th>...</th>\n",
       "      <td>...</td>\n",
       "      <td>...</td>\n",
       "      <td>...</td>\n",
       "      <td>...</td>\n",
       "      <td>...</td>\n",
       "    </tr>\n",
       "    <tr>\n",
       "      <th>145</th>\n",
       "      <td>6.700000</td>\n",
       "      <td>3.0</td>\n",
       "      <td>5.20</td>\n",
       "      <td>2.3</td>\n",
       "      <td>Iris-virginica</td>\n",
       "    </tr>\n",
       "    <tr>\n",
       "      <th>146</th>\n",
       "      <td>6.300000</td>\n",
       "      <td>2.5</td>\n",
       "      <td>5.00</td>\n",
       "      <td>1.9</td>\n",
       "      <td>Iris-virginica</td>\n",
       "    </tr>\n",
       "    <tr>\n",
       "      <th>147</th>\n",
       "      <td>6.500000</td>\n",
       "      <td>3.0</td>\n",
       "      <td>4.35</td>\n",
       "      <td>2.0</td>\n",
       "      <td>Iris-virginica</td>\n",
       "    </tr>\n",
       "    <tr>\n",
       "      <th>148</th>\n",
       "      <td>6.200000</td>\n",
       "      <td>3.4</td>\n",
       "      <td>5.40</td>\n",
       "      <td>2.3</td>\n",
       "      <td>Iris-virginica</td>\n",
       "    </tr>\n",
       "    <tr>\n",
       "      <th>149</th>\n",
       "      <td>5.900000</td>\n",
       "      <td>3.0</td>\n",
       "      <td>5.10</td>\n",
       "      <td>1.8</td>\n",
       "      <td>Iris-virginica</td>\n",
       "    </tr>\n",
       "  </tbody>\n",
       "</table>\n",
       "<p>150 rows × 5 columns</p>\n",
       "</div>"
      ],
      "text/plain": [
       "           SL   SW    PL   PW  Classification\n",
       "0    5.100000  3.5  1.40  0.2     Iris-setosa\n",
       "1    4.900000  3.0  1.40  0.2     Iris-setosa\n",
       "2    5.855944  3.2  1.30  0.2     Iris-setosa\n",
       "3    4.600000  3.1  1.50  0.2     Iris-setosa\n",
       "4    5.000000  3.6  1.40  0.2     Iris-setosa\n",
       "..        ...  ...   ...  ...             ...\n",
       "145  6.700000  3.0  5.20  2.3  Iris-virginica\n",
       "146  6.300000  2.5  5.00  1.9  Iris-virginica\n",
       "147  6.500000  3.0  4.35  2.0  Iris-virginica\n",
       "148  6.200000  3.4  5.40  2.3  Iris-virginica\n",
       "149  5.900000  3.0  5.10  1.8  Iris-virginica\n",
       "\n",
       "[150 rows x 5 columns]"
      ]
     },
     "execution_count": 16,
     "metadata": {},
     "output_type": "execute_result"
    }
   ],
   "source": [
    "data"
   ]
  },
  {
   "cell_type": "code",
   "execution_count": 17,
   "metadata": {},
   "outputs": [
    {
     "data": {
      "text/plain": [
       "<Axes: >"
      ]
     },
     "execution_count": 17,
     "metadata": {},
     "output_type": "execute_result"
    },
    {
     "data": {
      "image/png": "[encoded data removed]",
      "text/plain": [
       "<Figure size 640x480 with 1 Axes>"
      ]
     },
     "metadata": {},
     "output_type": "display_data"
    }
   ],
   "source": [
    "sns.boxplot(data)"
   ]
  },
  {
   "cell_type": "code",
   "execution_count": 18,
   "metadata": {},
   "outputs": [
    {
     "data": {
      "text/plain": [
       "<Axes: ylabel='SW'>"
      ]
     },
     "execution_count": 18,
     "metadata": {},
     "output_type": "execute_result"
    },
    {
     "data": {
      "image/png": "[encoded data removed]",
      "text/plain": [
       "<Figure size 640x480 with 1 Axes>"
      ]
     },
     "metadata": {},
     "output_type": "display_data"
    }
   ],
   "source": [
    "sns.boxplot(data['SW'])"
   ]
  },
  {
   "cell_type": "code",
   "execution_count": 19,
   "metadata": {},
   "outputs": [
    {
     "data": {
      "text/plain": [
       "<Axes: xlabel='SW', ylabel='Count'>"
      ]
     },
     "execution_count": 19,
     "metadata": {},
     "output_type": "execute_result"
    },
    {
     "data": {
      "image/png": "[encoded data removed]",
      "text/plain": [
       "<Figure size 640x480 with 1 Axes>"
      ]
     },
     "metadata": {},
     "output_type": "display_data"
    }
   ],
   "source": [
    "sns.histplot(data['SW'],kde=True)"
   ]
  },
  {
   "cell_type": "code",
   "execution_count": 20,
   "metadata": {},
   "outputs": [],
   "source": [
    "q1=np.percentile(data['SW'],25)\n",
    "q3=np.percentile(data['SW'],75)\n",
    "iqr=q3-q1\n",
    "lower_limit=q1-1.5*iqr\n",
    "upper_limit=q3+1.5*iqr"
   ]
  },
  {
   "cell_type": "code",
   "execution_count": 21,
   "metadata": {},
   "outputs": [
    {
     "data": {
      "text/plain": [
       "Index([14, 15, 32, 33, 60], dtype='int64')"
      ]
     },
     "execution_count": 21,
     "metadata": {},
     "output_type": "execute_result"
    }
   ],
   "source": [
    "outliers_index=data[(data['SW']>upper_limit) | (data['SW']<lower_limit)].index\n",
    "outliers_index"
   ]
  },
  {
   "cell_type": "code",
   "execution_count": 22,
   "metadata": {},
   "outputs": [
    {
     "name": "stdout",
     "output_type": "stream",
     "text": [
      "3.0493055555555557\n"
     ]
    }
   ],
   "source": [
    "print(data['SW'].mean())"
   ]
  },
  {
   "cell_type": "code",
   "execution_count": 23,
   "metadata": {},
   "outputs": [
    {
     "data": {
      "text/html": [
       "<div>\n",
       "<style scoped>\n",
       "    .dataframe tbody tr th:only-of-type {\n",
       "        vertical-align: middle;\n",
       "    }\n",
       "\n",
       "    .dataframe tbody tr th {\n",
       "        vertical-align: top;\n",
       "    }\n",
       "\n",
       "    .dataframe thead th {\n",
       "        text-align: right;\n",
       "    }\n",
       "</style>\n",
       "<table border=\"1\" class=\"dataframe\">\n",
       "  <thead>\n",
       "    <tr style=\"text-align: right;\">\n",
       "      <th></th>\n",
       "      <th>SL</th>\n",
       "      <th>SW</th>\n",
       "      <th>PL</th>\n",
       "      <th>PW</th>\n",
       "      <th>Classification</th>\n",
       "    </tr>\n",
       "  </thead>\n",
       "  <tbody>\n",
       "    <tr>\n",
       "      <th>14</th>\n",
       "      <td>5.8</td>\n",
       "      <td>4.0</td>\n",
       "      <td>1.2</td>\n",
       "      <td>0.2</td>\n",
       "      <td>Iris-setosa</td>\n",
       "    </tr>\n",
       "    <tr>\n",
       "      <th>15</th>\n",
       "      <td>5.7</td>\n",
       "      <td>4.4</td>\n",
       "      <td>1.5</td>\n",
       "      <td>0.4</td>\n",
       "      <td>Iris-setosa</td>\n",
       "    </tr>\n",
       "    <tr>\n",
       "      <th>32</th>\n",
       "      <td>5.2</td>\n",
       "      <td>4.1</td>\n",
       "      <td>1.5</td>\n",
       "      <td>0.1</td>\n",
       "      <td>Iris-setosa</td>\n",
       "    </tr>\n",
       "    <tr>\n",
       "      <th>33</th>\n",
       "      <td>5.5</td>\n",
       "      <td>4.2</td>\n",
       "      <td>1.4</td>\n",
       "      <td>0.2</td>\n",
       "      <td>Iris-setosa</td>\n",
       "    </tr>\n",
       "    <tr>\n",
       "      <th>60</th>\n",
       "      <td>5.0</td>\n",
       "      <td>2.0</td>\n",
       "      <td>3.5</td>\n",
       "      <td>1.0</td>\n",
       "      <td>Iris-versicolor</td>\n",
       "    </tr>\n",
       "  </tbody>\n",
       "</table>\n",
       "</div>"
      ],
      "text/plain": [
       "     SL   SW   PL   PW   Classification\n",
       "14  5.8  4.0  1.2  0.2      Iris-setosa\n",
       "15  5.7  4.4  1.5  0.4      Iris-setosa\n",
       "32  5.2  4.1  1.5  0.1      Iris-setosa\n",
       "33  5.5  4.2  1.4  0.2      Iris-setosa\n",
       "60  5.0  2.0  3.5  1.0  Iris-versicolor"
      ]
     },
     "execution_count": 23,
     "metadata": {},
     "output_type": "execute_result"
    }
   ],
   "source": [
    "data.iloc[outliers_index]"
   ]
  },
  {
   "cell_type": "code",
   "execution_count": 24,
   "metadata": {},
   "outputs": [],
   "source": [
    "sw_mean=data['SW'].mean()\n",
    "for i in outliers_index:\n",
    "  data.loc[i,'SW']=sw_mean"
   ]
  },
  {
   "cell_type": "code",
   "execution_count": 25,
   "metadata": {},
   "outputs": [
    {
     "data": {
      "text/html": [
       "<div>\n",
       "<style scoped>\n",
       "    .dataframe tbody tr th:only-of-type {\n",
       "        vertical-align: middle;\n",
       "    }\n",
       "\n",
       "    .dataframe tbody tr th {\n",
       "        vertical-align: top;\n",
       "    }\n",
       "\n",
       "    .dataframe thead th {\n",
       "        text-align: right;\n",
       "    }\n",
       "</style>\n",
       "<table border=\"1\" class=\"dataframe\">\n",
       "  <thead>\n",
       "    <tr style=\"text-align: right;\">\n",
       "      <th></th>\n",
       "      <th>SL</th>\n",
       "      <th>SW</th>\n",
       "      <th>PL</th>\n",
       "      <th>PW</th>\n",
       "      <th>Classification</th>\n",
       "    </tr>\n",
       "  </thead>\n",
       "  <tbody>\n",
       "    <tr>\n",
       "      <th>14</th>\n",
       "      <td>5.8</td>\n",
       "      <td>3.049306</td>\n",
       "      <td>1.2</td>\n",
       "      <td>0.2</td>\n",
       "      <td>Iris-setosa</td>\n",
       "    </tr>\n",
       "    <tr>\n",
       "      <th>15</th>\n",
       "      <td>5.7</td>\n",
       "      <td>3.049306</td>\n",
       "      <td>1.5</td>\n",
       "      <td>0.4</td>\n",
       "      <td>Iris-setosa</td>\n",
       "    </tr>\n",
       "    <tr>\n",
       "      <th>32</th>\n",
       "      <td>5.2</td>\n",
       "      <td>3.049306</td>\n",
       "      <td>1.5</td>\n",
       "      <td>0.1</td>\n",
       "      <td>Iris-setosa</td>\n",
       "    </tr>\n",
       "    <tr>\n",
       "      <th>33</th>\n",
       "      <td>5.5</td>\n",
       "      <td>3.049306</td>\n",
       "      <td>1.4</td>\n",
       "      <td>0.2</td>\n",
       "      <td>Iris-setosa</td>\n",
       "    </tr>\n",
       "    <tr>\n",
       "      <th>60</th>\n",
       "      <td>5.0</td>\n",
       "      <td>3.049306</td>\n",
       "      <td>3.5</td>\n",
       "      <td>1.0</td>\n",
       "      <td>Iris-versicolor</td>\n",
       "    </tr>\n",
       "  </tbody>\n",
       "</table>\n",
       "</div>"
      ],
      "text/plain": [
       "     SL        SW   PL   PW   Classification\n",
       "14  5.8  3.049306  1.2  0.2      Iris-setosa\n",
       "15  5.7  3.049306  1.5  0.4      Iris-setosa\n",
       "32  5.2  3.049306  1.5  0.1      Iris-setosa\n",
       "33  5.5  3.049306  1.4  0.2      Iris-setosa\n",
       "60  5.0  3.049306  3.5  1.0  Iris-versicolor"
      ]
     },
     "execution_count": 25,
     "metadata": {},
     "output_type": "execute_result"
    }
   ],
   "source": [
    "data.iloc[outliers_index]"
   ]
  },
  {
   "cell_type": "code",
   "execution_count": 26,
   "metadata": {},
   "outputs": [
    {
     "data": {
      "text/plain": [
       "<Axes: ylabel='SW'>"
      ]
     },
     "execution_count": 26,
     "metadata": {},
     "output_type": "execute_result"
    },
    {
     "data": {
      "image/png": "[encoded data removed]",
      "text/plain": [
       "<Figure size 640x480 with 1 Axes>"
      ]
     },
     "metadata": {},
     "output_type": "display_data"
    }
   ],
   "source": [
    "sns.boxplot(data['SW'])"
   ]
  },
  {
   "cell_type": "code",
   "execution_count": 27,
   "metadata": {},
   "outputs": [],
   "source": [
    "X=data.drop('Classification',axis=1)\n",
    "y=data['Classification']"
   ]
  },
  {
   "cell_type": "code",
   "execution_count": 28,
   "metadata": {},
   "outputs": [
    {
     "data": {
      "text/html": [
       "<div>\n",
       "<style scoped>\n",
       "    .dataframe tbody tr th:only-of-type {\n",
       "        vertical-align: middle;\n",
       "    }\n",
       "\n",
       "    .dataframe tbody tr th {\n",
       "        vertical-align: top;\n",
       "    }\n",
       "\n",
       "    .dataframe thead th {\n",
       "        text-align: right;\n",
       "    }\n",
       "</style>\n",
       "<table border=\"1\" class=\"dataframe\">\n",
       "  <thead>\n",
       "    <tr style=\"text-align: right;\">\n",
       "      <th></th>\n",
       "      <th>SL</th>\n",
       "      <th>SW</th>\n",
       "      <th>PL</th>\n",
       "      <th>PW</th>\n",
       "    </tr>\n",
       "  </thead>\n",
       "  <tbody>\n",
       "    <tr>\n",
       "      <th>0</th>\n",
       "      <td>5.100000</td>\n",
       "      <td>3.5</td>\n",
       "      <td>1.40</td>\n",
       "      <td>0.2</td>\n",
       "    </tr>\n",
       "    <tr>\n",
       "      <th>1</th>\n",
       "      <td>4.900000</td>\n",
       "      <td>3.0</td>\n",
       "      <td>1.40</td>\n",
       "      <td>0.2</td>\n",
       "    </tr>\n",
       "    <tr>\n",
       "      <th>2</th>\n",
       "      <td>5.855944</td>\n",
       "      <td>3.2</td>\n",
       "      <td>1.30</td>\n",
       "      <td>0.2</td>\n",
       "    </tr>\n",
       "    <tr>\n",
       "      <th>3</th>\n",
       "      <td>4.600000</td>\n",
       "      <td>3.1</td>\n",
       "      <td>1.50</td>\n",
       "      <td>0.2</td>\n",
       "    </tr>\n",
       "    <tr>\n",
       "      <th>4</th>\n",
       "      <td>5.000000</td>\n",
       "      <td>3.6</td>\n",
       "      <td>1.40</td>\n",
       "      <td>0.2</td>\n",
       "    </tr>\n",
       "    <tr>\n",
       "      <th>...</th>\n",
       "      <td>...</td>\n",
       "      <td>...</td>\n",
       "      <td>...</td>\n",
       "      <td>...</td>\n",
       "    </tr>\n",
       "    <tr>\n",
       "      <th>145</th>\n",
       "      <td>6.700000</td>\n",
       "      <td>3.0</td>\n",
       "      <td>5.20</td>\n",
       "      <td>2.3</td>\n",
       "    </tr>\n",
       "    <tr>\n",
       "      <th>146</th>\n",
       "      <td>6.300000</td>\n",
       "      <td>2.5</td>\n",
       "      <td>5.00</td>\n",
       "      <td>1.9</td>\n",
       "    </tr>\n",
       "    <tr>\n",
       "      <th>147</th>\n",
       "      <td>6.500000</td>\n",
       "      <td>3.0</td>\n",
       "      <td>4.35</td>\n",
       "      <td>2.0</td>\n",
       "    </tr>\n",
       "    <tr>\n",
       "      <th>148</th>\n",
       "      <td>6.200000</td>\n",
       "      <td>3.4</td>\n",
       "      <td>5.40</td>\n",
       "      <td>2.3</td>\n",
       "    </tr>\n",
       "    <tr>\n",
       "      <th>149</th>\n",
       "      <td>5.900000</td>\n",
       "      <td>3.0</td>\n",
       "      <td>5.10</td>\n",
       "      <td>1.8</td>\n",
       "    </tr>\n",
       "  </tbody>\n",
       "</table>\n",
       "<p>150 rows × 4 columns</p>\n",
       "</div>"
      ],
      "text/plain": [
       "           SL   SW    PL   PW\n",
       "0    5.100000  3.5  1.40  0.2\n",
       "1    4.900000  3.0  1.40  0.2\n",
       "2    5.855944  3.2  1.30  0.2\n",
       "3    4.600000  3.1  1.50  0.2\n",
       "4    5.000000  3.6  1.40  0.2\n",
       "..        ...  ...   ...  ...\n",
       "145  6.700000  3.0  5.20  2.3\n",
       "146  6.300000  2.5  5.00  1.9\n",
       "147  6.500000  3.0  4.35  2.0\n",
       "148  6.200000  3.4  5.40  2.3\n",
       "149  5.900000  3.0  5.10  1.8\n",
       "\n",
       "[150 rows x 4 columns]"
      ]
     },
     "execution_count": 28,
     "metadata": {},
     "output_type": "execute_result"
    }
   ],
   "source": [
    "X"
   ]
  },
  {
   "cell_type": "code",
   "execution_count": 29,
   "metadata": {},
   "outputs": [
    {
     "data": {
      "text/plain": [
       "0         Iris-setosa\n",
       "1         Iris-setosa\n",
       "2         Iris-setosa\n",
       "3         Iris-setosa\n",
       "4         Iris-setosa\n",
       "            ...      \n",
       "145    Iris-virginica\n",
       "146    Iris-virginica\n",
       "147    Iris-virginica\n",
       "148    Iris-virginica\n",
       "149    Iris-virginica\n",
       "Name: Classification, Length: 150, dtype: object"
      ]
     },
     "execution_count": 29,
     "metadata": {},
     "output_type": "execute_result"
    }
   ],
   "source": [
    "y"
   ]
  },
  {
   "cell_type": "code",
   "execution_count": 30,
   "metadata": {},
   "outputs": [],
   "source": [
    "from sklearn.preprocessing import MinMaxScaler\n",
    "\n",
    "scaler=MinMaxScaler(feature_range=(0,1))\n",
    "X=scaler.fit_transform(X)"
   ]
  },
  {
   "cell_type": "code",
   "execution_count": 31,
   "metadata": {},
   "outputs": [
    {
     "data": {
      "text/plain": [
       "array([[0.22222222, 0.76470588, 0.06779661, 0.04166667],\n",
       "       [0.16666667, 0.47058824, 0.06779661, 0.04166667],\n",
       "       [0.43220668, 0.58823529, 0.05084746, 0.04166667],\n",
       "       [0.08333333, 0.52941176, 0.08474576, 0.04166667],\n",
       "       [0.19444444, 0.82352941, 0.06779661, 0.04166667],\n",
       "       [0.30555556, 1.        , 0.11864407, 0.125     ],\n",
       "       [0.08333333, 0.70588235, 0.06779661, 0.08333333],\n",
       "       [0.19444444, 0.70588235, 0.08474576, 0.04166667],\n",
       "       [0.02777778, 0.41176471, 0.06779661, 0.04166667],\n",
       "       [0.16666667, 0.52941176, 0.08474576, 0.        ],\n",
       "       [0.30555556, 0.4995915 , 0.08474576, 0.04166667],\n",
       "       [0.13888889, 0.70588235, 0.10169492, 0.04166667],\n",
       "       [0.13888889, 0.47058824, 0.06779661, 0.        ],\n",
       "       [0.        , 0.47058824, 0.01694915, 0.        ],\n",
       "       [0.41666667, 0.4995915 , 0.03389831, 0.04166667],\n",
       "       [0.38888889, 0.4995915 , 0.08474576, 0.125     ],\n",
       "       [0.30555556, 1.        , 0.05084746, 0.125     ],\n",
       "       [0.22222222, 0.76470588, 0.06779661, 0.08333333],\n",
       "       [0.38888889, 0.94117647, 0.11864407, 0.08333333],\n",
       "       [0.22222222, 0.94117647, 0.08474576, 0.08333333],\n",
       "       [0.30555556, 0.70588235, 0.11864407, 0.04166667],\n",
       "       [0.43220668, 0.88235294, 0.08474576, 0.125     ],\n",
       "       [0.08333333, 0.82352941, 0.        , 0.04166667],\n",
       "       [0.22222222, 0.64705882, 0.11864407, 0.16666667],\n",
       "       [0.13888889, 0.70588235, 0.15254237, 0.04166667],\n",
       "       [0.19444444, 0.47058824, 0.10169492, 0.04166667],\n",
       "       [0.19444444, 0.70588235, 0.10169492, 0.125     ],\n",
       "       [0.25      , 0.4995915 , 0.08474576, 0.04166667],\n",
       "       [0.25      , 0.70588235, 0.56779661, 0.04166667],\n",
       "       [0.11111111, 0.58823529, 0.10169492, 0.04166667],\n",
       "       [0.13888889, 0.52941176, 0.10169492, 0.04166667],\n",
       "       [0.30555556, 0.70588235, 0.08474576, 0.125     ],\n",
       "       [0.25      , 0.4995915 , 0.08474576, 0.        ],\n",
       "       [0.33333333, 0.4995915 , 0.06779661, 0.04166667],\n",
       "       [0.16666667, 0.52941176, 0.08474576, 0.        ],\n",
       "       [0.19444444, 0.58823529, 0.03389831, 0.04166667],\n",
       "       [0.33333333, 0.76470588, 0.05084746, 0.04166667],\n",
       "       [0.16666667, 0.52941176, 0.08474576, 0.        ],\n",
       "       [0.02777778, 0.47058824, 0.05084746, 0.04166667],\n",
       "       [0.43220668, 0.70588235, 0.08474576, 0.04166667],\n",
       "       [0.19444444, 0.76470588, 0.05084746, 0.08333333],\n",
       "       [0.05555556, 0.05882353, 0.05084746, 0.08333333],\n",
       "       [0.02777778, 0.58823529, 0.56779661, 0.04166667],\n",
       "       [0.19444444, 0.4995915 , 0.10169492, 0.20833333],\n",
       "       [0.22222222, 0.94117647, 0.15254237, 0.125     ],\n",
       "       [0.13888889, 0.47058824, 0.06779661, 0.08333333],\n",
       "       [0.22222222, 0.94117647, 0.10169492, 0.04166667],\n",
       "       [0.08333333, 0.58823529, 0.06779661, 0.04166667],\n",
       "       [0.27777778, 0.88235294, 0.08474576, 0.04166667],\n",
       "       [0.19444444, 0.64705882, 0.06779661, 0.04166667],\n",
       "       [0.75      , 0.58823529, 0.62711864, 0.54166667],\n",
       "       [0.43220668, 0.58823529, 0.59322034, 0.58333333],\n",
       "       [0.72222222, 0.52941176, 0.66101695, 0.58333333],\n",
       "       [0.33333333, 0.05882353, 0.50847458, 0.5       ],\n",
       "       [0.61111111, 0.35294118, 0.61016949, 0.58333333],\n",
       "       [0.38888889, 0.35294118, 0.59322034, 0.5       ],\n",
       "       [0.55555556, 0.64705882, 0.56779661, 0.625     ],\n",
       "       [0.16666667, 0.11764706, 0.38983051, 0.375     ],\n",
       "       [0.63888889, 0.41176471, 0.61016949, 0.5       ],\n",
       "       [0.25      , 0.29411765, 0.49152542, 0.54166667],\n",
       "       [0.19444444, 0.4995915 , 0.42372881, 0.375     ],\n",
       "       [0.44444444, 0.47058824, 0.54237288, 0.58333333],\n",
       "       [0.47222222, 0.        , 0.50847458, 0.375     ],\n",
       "       [0.5       , 0.41176471, 0.62711864, 0.54166667],\n",
       "       [0.36111111, 0.41176471, 0.44067797, 0.5       ],\n",
       "       [0.66666667, 0.52941176, 0.57627119, 0.54166667],\n",
       "       [0.36111111, 0.47058824, 0.59322034, 0.58333333],\n",
       "       [0.41666667, 0.29411765, 0.52542373, 0.375     ],\n",
       "       [0.52777778, 0.        , 0.59322034, 0.58333333],\n",
       "       [0.36111111, 0.17647059, 0.49152542, 0.41666667],\n",
       "       [0.44444444, 0.58823529, 0.6440678 , 0.70833333],\n",
       "       [0.5       , 0.35294118, 0.50847458, 0.5       ],\n",
       "       [0.55555556, 0.4995915 , 0.66101695, 0.58333333],\n",
       "       [0.5       , 0.35294118, 0.62711864, 0.45833333],\n",
       "       [0.58333333, 0.41176471, 0.55932203, 0.5       ],\n",
       "       [0.63888889, 0.47058824, 0.57627119, 0.54166667],\n",
       "       [0.69444444, 0.35294118, 0.6440678 , 0.54166667],\n",
       "       [0.66666667, 0.47058824, 0.6779661 , 0.66666667],\n",
       "       [0.47222222, 0.41176471, 0.59322034, 0.58333333],\n",
       "       [0.38888889, 0.23529412, 0.42372881, 0.375     ],\n",
       "       [0.33333333, 0.11764706, 0.47457627, 0.41666667],\n",
       "       [0.33333333, 0.11764706, 0.45762712, 0.375     ],\n",
       "       [0.41666667, 0.29411765, 0.49152542, 0.45833333],\n",
       "       [0.47222222, 0.29411765, 0.69491525, 0.625     ],\n",
       "       [0.30555556, 0.47058824, 0.59322034, 0.58333333],\n",
       "       [0.43220668, 0.70588235, 0.59322034, 0.625     ],\n",
       "       [0.66666667, 0.52941176, 0.62711864, 0.58333333],\n",
       "       [0.55555556, 0.05882353, 0.57627119, 0.5       ],\n",
       "       [0.36111111, 0.47058824, 0.52542373, 0.5       ],\n",
       "       [0.33333333, 0.17647059, 0.50847458, 0.5       ],\n",
       "       [0.33333333, 0.23529412, 0.57627119, 0.45833333],\n",
       "       [0.5       , 0.47058824, 0.61016949, 0.54166667],\n",
       "       [0.41666667, 0.23529412, 0.50847458, 0.45833333],\n",
       "       [0.19444444, 0.05882353, 0.38983051, 0.375     ],\n",
       "       [0.36111111, 0.29411765, 0.56779661, 0.5       ],\n",
       "       [0.38888889, 0.47058824, 0.54237288, 0.45833333],\n",
       "       [0.38888889, 0.41176471, 0.54237288, 0.5       ],\n",
       "       [0.52777778, 0.41176471, 0.55932203, 0.5       ],\n",
       "       [0.22222222, 0.4995915 , 0.33898305, 0.41666667],\n",
       "       [0.38888889, 0.35294118, 0.52542373, 0.5       ],\n",
       "       [0.55555556, 0.64705882, 0.84745763, 1.        ],\n",
       "       [0.41666667, 0.29411765, 0.69491525, 0.75      ],\n",
       "       [0.77777778, 0.47058824, 0.83050847, 0.83333333],\n",
       "       [0.55555556, 0.41176471, 0.77966102, 0.70833333],\n",
       "       [0.61111111, 0.47058824, 0.81355932, 0.875     ],\n",
       "       [0.91666667, 0.47058824, 0.94915254, 0.83333333],\n",
       "       [0.43220668, 0.17647059, 0.59322034, 0.66666667],\n",
       "       [0.83333333, 0.41176471, 0.89830508, 0.70833333],\n",
       "       [0.66666667, 0.17647059, 0.81355932, 0.70833333],\n",
       "       [0.80555556, 0.82352941, 0.56779661, 1.        ],\n",
       "       [0.61111111, 0.58823529, 0.69491525, 0.79166667],\n",
       "       [0.58333333, 0.29411765, 0.72881356, 0.75      ],\n",
       "       [0.69444444, 0.47058824, 0.76271186, 0.83333333],\n",
       "       [0.38888889, 0.17647059, 0.6779661 , 0.79166667],\n",
       "       [0.41666667, 0.35294118, 0.69491525, 0.95833333],\n",
       "       [0.58333333, 0.58823529, 0.72881356, 0.91666667],\n",
       "       [0.61111111, 0.47058824, 0.76271186, 0.70833333],\n",
       "       [0.94444444, 0.94117647, 0.96610169, 0.875     ],\n",
       "       [0.94444444, 0.23529412, 1.        , 0.91666667],\n",
       "       [0.47222222, 0.        , 0.6779661 , 0.58333333],\n",
       "       [0.72222222, 0.58823529, 0.79661017, 0.91666667],\n",
       "       [0.36111111, 0.35294118, 0.66101695, 0.79166667],\n",
       "       [0.94444444, 0.35294118, 0.96610169, 0.79166667],\n",
       "       [0.55555556, 0.29411765, 0.66101695, 0.70833333],\n",
       "       [0.66666667, 0.4995915 , 0.79661017, 0.83333333],\n",
       "       [0.80555556, 0.58823529, 0.84745763, 0.70833333],\n",
       "       [0.52777778, 0.35294118, 0.6440678 , 0.70833333],\n",
       "       [0.5       , 0.47058824, 0.66101695, 0.70833333],\n",
       "       [0.58333333, 0.35294118, 0.77966102, 0.83333333],\n",
       "       [0.80555556, 0.47058824, 0.81355932, 0.625     ],\n",
       "       [0.86111111, 0.35294118, 0.86440678, 0.75      ],\n",
       "       [1.        , 0.94117647, 0.91525424, 0.79166667],\n",
       "       [0.58333333, 0.35294118, 0.77966102, 0.875     ],\n",
       "       [0.55555556, 0.35294118, 0.69491525, 0.58333333],\n",
       "       [0.5       , 0.23529412, 0.77966102, 0.54166667],\n",
       "       [0.94444444, 0.47058824, 0.86440678, 0.91666667],\n",
       "       [0.55555556, 0.70588235, 0.77966102, 0.95833333],\n",
       "       [0.58333333, 0.52941176, 0.76271186, 0.70833333],\n",
       "       [0.47222222, 0.47058824, 0.6440678 , 0.70833333],\n",
       "       [0.72222222, 0.52941176, 0.74576271, 0.83333333],\n",
       "       [0.66666667, 0.52941176, 0.77966102, 0.95833333],\n",
       "       [0.43220668, 0.52941176, 0.69491525, 0.91666667],\n",
       "       [0.41666667, 0.29411765, 0.69491525, 0.75      ],\n",
       "       [0.69444444, 0.58823529, 0.83050847, 0.91666667],\n",
       "       [0.66666667, 0.64705882, 0.79661017, 1.        ],\n",
       "       [0.66666667, 0.47058824, 0.71186441, 0.91666667],\n",
       "       [0.55555556, 0.17647059, 0.6779661 , 0.75      ],\n",
       "       [0.61111111, 0.47058824, 0.56779661, 0.79166667],\n",
       "       [0.52777778, 0.70588235, 0.74576271, 0.91666667],\n",
       "       [0.44444444, 0.47058824, 0.69491525, 0.70833333]])"
      ]
     },
     "execution_count": 31,
     "metadata": {},
     "output_type": "execute_result"
    }
   ],
   "source": [
    "X"
   ]
  },
  {
   "cell_type": "code",
   "execution_count": 32,
   "metadata": {},
   "outputs": [
    {
     "data": {
      "text/html": [
       "<div>\n",
       "<style scoped>\n",
       "    .dataframe tbody tr th:only-of-type {\n",
       "        vertical-align: middle;\n",
       "    }\n",
       "\n",
       "    .dataframe tbody tr th {\n",
       "        vertical-align: top;\n",
       "    }\n",
       "\n",
       "    .dataframe thead th {\n",
       "        text-align: right;\n",
       "    }\n",
       "</style>\n",
       "<table border=\"1\" class=\"dataframe\">\n",
       "  <thead>\n",
       "    <tr style=\"text-align: right;\">\n",
       "      <th></th>\n",
       "      <th>SL</th>\n",
       "      <th>SW</th>\n",
       "      <th>PL</th>\n",
       "      <th>PW</th>\n",
       "    </tr>\n",
       "  </thead>\n",
       "  <tbody>\n",
       "    <tr>\n",
       "      <th>0</th>\n",
       "      <td>0.222222</td>\n",
       "      <td>0.764706</td>\n",
       "      <td>0.067797</td>\n",
       "      <td>0.041667</td>\n",
       "    </tr>\n",
       "    <tr>\n",
       "      <th>1</th>\n",
       "      <td>0.166667</td>\n",
       "      <td>0.470588</td>\n",
       "      <td>0.067797</td>\n",
       "      <td>0.041667</td>\n",
       "    </tr>\n",
       "    <tr>\n",
       "      <th>2</th>\n",
       "      <td>0.432207</td>\n",
       "      <td>0.588235</td>\n",
       "      <td>0.050847</td>\n",
       "      <td>0.041667</td>\n",
       "    </tr>\n",
       "    <tr>\n",
       "      <th>3</th>\n",
       "      <td>0.083333</td>\n",
       "      <td>0.529412</td>\n",
       "      <td>0.084746</td>\n",
       "      <td>0.041667</td>\n",
       "    </tr>\n",
       "    <tr>\n",
       "      <th>4</th>\n",
       "      <td>0.194444</td>\n",
       "      <td>0.823529</td>\n",
       "      <td>0.067797</td>\n",
       "      <td>0.041667</td>\n",
       "    </tr>\n",
       "    <tr>\n",
       "      <th>...</th>\n",
       "      <td>...</td>\n",
       "      <td>...</td>\n",
       "      <td>...</td>\n",
       "      <td>...</td>\n",
       "    </tr>\n",
       "    <tr>\n",
       "      <th>145</th>\n",
       "      <td>0.666667</td>\n",
       "      <td>0.470588</td>\n",
       "      <td>0.711864</td>\n",
       "      <td>0.916667</td>\n",
       "    </tr>\n",
       "    <tr>\n",
       "      <th>146</th>\n",
       "      <td>0.555556</td>\n",
       "      <td>0.176471</td>\n",
       "      <td>0.677966</td>\n",
       "      <td>0.750000</td>\n",
       "    </tr>\n",
       "    <tr>\n",
       "      <th>147</th>\n",
       "      <td>0.611111</td>\n",
       "      <td>0.470588</td>\n",
       "      <td>0.567797</td>\n",
       "      <td>0.791667</td>\n",
       "    </tr>\n",
       "    <tr>\n",
       "      <th>148</th>\n",
       "      <td>0.527778</td>\n",
       "      <td>0.705882</td>\n",
       "      <td>0.745763</td>\n",
       "      <td>0.916667</td>\n",
       "    </tr>\n",
       "    <tr>\n",
       "      <th>149</th>\n",
       "      <td>0.444444</td>\n",
       "      <td>0.470588</td>\n",
       "      <td>0.694915</td>\n",
       "      <td>0.708333</td>\n",
       "    </tr>\n",
       "  </tbody>\n",
       "</table>\n",
       "<p>150 rows × 4 columns</p>\n",
       "</div>"
      ],
      "text/plain": [
       "           SL        SW        PL        PW\n",
       "0    0.222222  0.764706  0.067797  0.041667\n",
       "1    0.166667  0.470588  0.067797  0.041667\n",
       "2    0.432207  0.588235  0.050847  0.041667\n",
       "3    0.083333  0.529412  0.084746  0.041667\n",
       "4    0.194444  0.823529  0.067797  0.041667\n",
       "..        ...       ...       ...       ...\n",
       "145  0.666667  0.470588  0.711864  0.916667\n",
       "146  0.555556  0.176471  0.677966  0.750000\n",
       "147  0.611111  0.470588  0.567797  0.791667\n",
       "148  0.527778  0.705882  0.745763  0.916667\n",
       "149  0.444444  0.470588  0.694915  0.708333\n",
       "\n",
       "[150 rows x 4 columns]"
      ]
     },
     "execution_count": 32,
     "metadata": {},
     "output_type": "execute_result"
    }
   ],
   "source": [
    "X=pd.DataFrame(X,columns=['SL', 'SW', 'PL', 'PW'])\n",
    "X"
   ]
  },
  {
   "cell_type": "markdown",
   "metadata": {},
   "source": [
    "SPLITTING"
   ]
  },
  {
   "cell_type": "code",
   "execution_count": 33,
   "metadata": {},
   "outputs": [],
   "source": [
    "from sklearn.model_selection import train_test_split\n",
    "\n",
    "X_train, X_test, y_train, y_test = train_test_split(X, y, test_size=0.25, random_state=42)"
   ]
  },
  {
   "cell_type": "code",
   "execution_count": 34,
   "metadata": {},
   "outputs": [],
   "source": [
    "from sklearn.metrics import accuracy_score,confusion_matrix,classification_report"
   ]
  },
  {
   "cell_type": "markdown",
   "metadata": {},
   "source": [
    "<h3>3. Find out which classification model gives the best result</h3>\n"
   ]
  },
  {
   "cell_type": "markdown",
   "metadata": {},
   "source": [
    "CREATING MODEL"
   ]
  },
  {
   "cell_type": "markdown",
   "metadata": {},
   "source": [
    "LOGISTIC REGRESSION"
   ]
  },
  {
   "cell_type": "code",
   "execution_count": 35,
   "metadata": {},
   "outputs": [],
   "source": [
    "from sklearn.linear_model import LogisticRegression\n",
    "\n",
    "lr_model=LogisticRegression()\n",
    "lr_model.fit(X_train,y_train)\n",
    "log_y_pred=lr_model.predict(X_test)\n"
   ]
  },
  {
   "cell_type": "code",
   "execution_count": 36,
   "metadata": {},
   "outputs": [
    {
     "name": "stdout",
     "output_type": "stream",
     "text": [
      "LOGISTIC REGRESSION\n",
      "\n",
      "Accuracy score  : 0.9736842105263158\n",
      "-------------------------------------------\n",
      "\n",
      "Confusion_matrix\n",
      "[[15  0  0]\n",
      " [ 0 10  1]\n",
      " [ 0  0 12]]\n",
      "\n",
      "-------------------------------------------\n",
      "\n",
      "Classification_report\n",
      "                 precision    recall  f1-score   support\n",
      "\n",
      "    Iris-setosa       1.00      1.00      1.00        15\n",
      "Iris-versicolor       1.00      0.91      0.95        11\n",
      " Iris-virginica       0.92      1.00      0.96        12\n",
      "\n",
      "       accuracy                           0.97        38\n",
      "      macro avg       0.97      0.97      0.97        38\n",
      "   weighted avg       0.98      0.97      0.97        38\n",
      "\n"
     ]
    }
   ],
   "source": [
    "print(\"LOGISTIC REGRESSION\\n\")\n",
    "print(f\"Accuracy score  : {accuracy_score(y_test,log_y_pred)}\")\n",
    "print(\"-------------------------------------------\\n\")\n",
    "print(\"Confusion_matrix\")\n",
    "print(confusion_matrix(y_test,log_y_pred))\n",
    "print(\"\\n-------------------------------------------\\n\")\n",
    "print(\"Classification_report\")\n",
    "print(classification_report(y_test,log_y_pred))\n"
   ]
  },
  {
   "cell_type": "markdown",
   "metadata": {},
   "source": [
    "SVM"
   ]
  },
  {
   "cell_type": "code",
   "execution_count": 37,
   "metadata": {},
   "outputs": [],
   "source": [
    "from sklearn.svm import SVC\n",
    "\n",
    "svc_model=SVC(kernel='linear',)\n",
    "svc_model.fit(X_train,y_train)\n",
    "svc_y_pred=svc_model.predict(X_test)"
   ]
  },
  {
   "cell_type": "code",
   "execution_count": 38,
   "metadata": {},
   "outputs": [
    {
     "name": "stdout",
     "output_type": "stream",
     "text": [
      "SVM MODEL\n",
      "\n",
      "Accuracy score  : 1.0\n",
      "-------------------------------------------\n",
      "\n",
      "Confusion_matrix\n",
      "[[15  0  0]\n",
      " [ 0 11  0]\n",
      " [ 0  0 12]]\n",
      "\n",
      "-------------------------------------------\n",
      "\n",
      "Classification_report\n",
      "                 precision    recall  f1-score   support\n",
      "\n",
      "    Iris-setosa       1.00      1.00      1.00        15\n",
      "Iris-versicolor       1.00      1.00      1.00        11\n",
      " Iris-virginica       1.00      1.00      1.00        12\n",
      "\n",
      "       accuracy                           1.00        38\n",
      "      macro avg       1.00      1.00      1.00        38\n",
      "   weighted avg       1.00      1.00      1.00        38\n",
      "\n"
     ]
    }
   ],
   "source": [
    "print(\"SVM MODEL\\n\")\n",
    "print(f\"Accuracy score  : {accuracy_score(y_test,svc_y_pred)}\")\n",
    "print(\"-------------------------------------------\\n\")\n",
    "print(\"Confusion_matrix\")\n",
    "print(confusion_matrix(y_test,svc_y_pred))\n",
    "print(\"\\n-------------------------------------------\\n\")\n",
    "print(\"Classification_report\")\n",
    "print(classification_report(y_test,svc_y_pred))\n"
   ]
  },
  {
   "cell_type": "markdown",
   "metadata": {},
   "source": [
    "KNN"
   ]
  },
  {
   "cell_type": "code",
   "execution_count": 39,
   "metadata": {},
   "outputs": [],
   "source": [
    "from sklearn.neighbors import KNeighborsClassifier\n",
    "\n",
    "acc_list=[]\n",
    "for i in range(1,15):\n",
    "  sample_model_knn=KNeighborsClassifier(n_neighbors=i,metric='minkowski')\n",
    "  sample_model_knn.fit(X_train,y_train)\n",
    "  sample_y_pred=sample_model_knn.predict(X_test)\n",
    "  acc_list.append(accuracy_score(y_test,sample_y_pred))"
   ]
  },
  {
   "cell_type": "code",
   "execution_count": 40,
   "metadata": {},
   "outputs": [
    {
     "data": {
      "text/plain": [
       "[0.9736842105263158,\n",
       " 1.0,\n",
       " 0.9736842105263158,\n",
       " 1.0,\n",
       " 1.0,\n",
       " 1.0,\n",
       " 1.0,\n",
       " 1.0,\n",
       " 1.0,\n",
       " 1.0,\n",
       " 1.0,\n",
       " 1.0,\n",
       " 1.0,\n",
       " 1.0]"
      ]
     },
     "execution_count": 40,
     "metadata": {},
     "output_type": "execute_result"
    }
   ],
   "source": [
    "acc_list"
   ]
  },
  {
   "cell_type": "code",
   "execution_count": 41,
   "metadata": {},
   "outputs": [
    {
     "data": {
      "image/png": "[encoded data removed]",
      "text/plain": [
       "<Figure size 640x480 with 1 Axes>"
      ]
     },
     "metadata": {},
     "output_type": "display_data"
    }
   ],
   "source": [
    "plt.plot(np.arange(1,15),acc_list,'-o')\n",
    "plt.show()"
   ]
  },
  {
   "cell_type": "code",
   "execution_count": 42,
   "metadata": {},
   "outputs": [],
   "source": [
    "knn_model=KNeighborsClassifier(n_neighbors=5)\n",
    "knn_model.fit(X_train,y_train)\n",
    "knn_y_pred=sample_model_knn.predict(X_test)\n"
   ]
  },
  {
   "cell_type": "code",
   "execution_count": 43,
   "metadata": {},
   "outputs": [
    {
     "name": "stdout",
     "output_type": "stream",
     "text": [
      "KNN\n",
      "\n",
      "Accuracy score  : 1.0\n",
      "-------------------------------------------\n",
      "\n",
      "Confusion_matrix\n",
      "[[15  0  0]\n",
      " [ 0 11  0]\n",
      " [ 0  0 12]]\n",
      "\n",
      "-------------------------------------------\n",
      "\n",
      "Classification_report\n",
      "                 precision    recall  f1-score   support\n",
      "\n",
      "    Iris-setosa       1.00      1.00      1.00        15\n",
      "Iris-versicolor       1.00      1.00      1.00        11\n",
      " Iris-virginica       1.00      1.00      1.00        12\n",
      "\n",
      "       accuracy                           1.00        38\n",
      "      macro avg       1.00      1.00      1.00        38\n",
      "   weighted avg       1.00      1.00      1.00        38\n",
      "\n"
     ]
    }
   ],
   "source": [
    "print(\"KNN\\n\")\n",
    "print(f\"Accuracy score  : {accuracy_score(y_test,knn_y_pred)}\")\n",
    "print(\"-------------------------------------------\\n\")\n",
    "print(\"Confusion_matrix\")\n",
    "print(confusion_matrix(y_test,knn_y_pred))\n",
    "print(\"\\n-------------------------------------------\\n\")\n",
    "print(\"Classification_report\")\n",
    "print(classification_report(y_test,knn_y_pred))\n"
   ]
  },
  {
   "cell_type": "markdown",
   "metadata": {},
   "source": [
    "DECISION TREE"
   ]
  },
  {
   "cell_type": "code",
   "execution_count": 44,
   "metadata": {},
   "outputs": [],
   "source": [
    "from sklearn.tree import DecisionTreeClassifier\n",
    "\n",
    "dtc_model=DecisionTreeClassifier(random_state=42)\n",
    "dtc_model.fit(X_train,y_train)\n",
    "dtc_y_pred=dtc_model.predict(X_test)"
   ]
  },
  {
   "cell_type": "code",
   "execution_count": 45,
   "metadata": {},
   "outputs": [
    {
     "name": "stdout",
     "output_type": "stream",
     "text": [
      "DECISION TREE\n",
      "\n",
      "Accuracy score  : 1.0\n",
      "-------------------------------------------\n",
      "\n",
      "Confusion_matrix\n",
      "[[15  0  0]\n",
      " [ 0 11  0]\n",
      " [ 0  0 12]]\n",
      "\n",
      "-------------------------------------------\n",
      "\n",
      "Classification_report\n",
      "                 precision    recall  f1-score   support\n",
      "\n",
      "    Iris-setosa       1.00      1.00      1.00        15\n",
      "Iris-versicolor       1.00      1.00      1.00        11\n",
      " Iris-virginica       1.00      1.00      1.00        12\n",
      "\n",
      "       accuracy                           1.00        38\n",
      "      macro avg       1.00      1.00      1.00        38\n",
      "   weighted avg       1.00      1.00      1.00        38\n",
      "\n"
     ]
    }
   ],
   "source": [
    "print(\"DECISION TREE\\n\")\n",
    "print(f\"Accuracy score  : {accuracy_score(y_test,dtc_y_pred)}\")\n",
    "print(\"-------------------------------------------\\n\")\n",
    "print(\"Confusion_matrix\")\n",
    "print(confusion_matrix(y_test,dtc_y_pred))\n",
    "print(\"\\n-------------------------------------------\\n\")\n",
    "print(\"Classification_report\")\n",
    "print(classification_report(y_test,dtc_y_pred))\n"
   ]
  },
  {
   "cell_type": "markdown",
   "metadata": {},
   "source": [
    "RANDOM FOREST ALGORITHM"
   ]
  },
  {
   "cell_type": "code",
   "execution_count": 47,
   "metadata": {},
   "outputs": [],
   "source": [
    "from sklearn.ensemble import RandomForestClassifier\n",
    "\n",
    "rfc_model=RandomForestClassifier()\n",
    "rfc_model.fit(X_train,y_train)\n",
    "rfc_y_pred=rfc_model.predict(X_test)"
   ]
  },
  {
   "cell_type": "code",
   "execution_count": 48,
   "metadata": {},
   "outputs": [
    {
     "name": "stdout",
     "output_type": "stream",
     "text": [
      "RANDOM FOREST\n",
      "\n",
      "Accuracy score  : 1.0\n",
      "-------------------------------------------\n",
      "\n",
      "Confusion_matrix\n",
      "[[15  0  0]\n",
      " [ 0 11  0]\n",
      " [ 0  0 12]]\n",
      "\n",
      "-------------------------------------------\n",
      "\n",
      "Classification_report\n",
      "                 precision    recall  f1-score   support\n",
      "\n",
      "    Iris-setosa       1.00      1.00      1.00        15\n",
      "Iris-versicolor       1.00      1.00      1.00        11\n",
      " Iris-virginica       1.00      1.00      1.00        12\n",
      "\n",
      "       accuracy                           1.00        38\n",
      "      macro avg       1.00      1.00      1.00        38\n",
      "   weighted avg       1.00      1.00      1.00        38\n",
      "\n"
     ]
    }
   ],
   "source": [
    "print(\"RANDOM FOREST\\n\")\n",
    "print(f\"Accuracy score  : {accuracy_score(y_test,rfc_y_pred)}\")\n",
    "print(\"-------------------------------------------\\n\")\n",
    "print(\"Confusion_matrix\")\n",
    "print(confusion_matrix(y_test,rfc_y_pred))\n",
    "print(\"\\n-------------------------------------------\\n\")\n",
    "print(\"Classification_report\")\n",
    "print(classification_report(y_test,rfc_y_pred))\n"
   ]
  },
  {
   "cell_type": "markdown",
   "metadata": {},
   "source": [
    "<h3>OBSERVATIONS</h3>\n",
    "<pre>--------------------------------------------------------------</pre>"
   ]
  },
  {
   "cell_type": "markdown",
   "metadata": {},
   "source": [
    "<h4><b>LOGISTIC REGRESSION</b></h4>\n",
    "\n",
    "<pre>\n",
    "Accuracy score  : 0.9736842105263158\n",
    "-------------------------------------------\n",
    "\n",
    "Confusion_matrix\n",
    "[[15  0  0]\n",
    " [ 0 10  1]\n",
    " [ 0  0 12]]\n",
    "\n",
    "-------------------------------------------\n",
    "\n",
    "Classification_report\n",
    "                 precision    recall  f1-score   support\n",
    "\n",
    "    Iris-setosa       1.00      1.00      1.00        15\n",
    "Iris-versicolor       1.00      0.91      0.95        11\n",
    " Iris-virginica       0.92      1.00      0.96        12\n",
    "\n",
    "       accuracy                           0.97        38\n",
    "      macro avg       0.97      0.97      0.97        38\n",
    "   weighted avg       0.98      0.97      0.97        38\n",
    "<pre>\n"
   ]
  },
  {
   "cell_type": "markdown",
   "metadata": {},
   "source": [
    "<h4><b>SVM MODEL</b></h4>\n",
    "\n",
    "<pre>\n",
    "Accuracy score  : 1.0\n",
    "-------------------------------------------\n",
    "\n",
    "Confusion_matrix\n",
    "[[15  0  0]\n",
    " [ 0 11  0]\n",
    " [ 0  0 12]]\n",
    "\n",
    "-------------------------------------------\n",
    "\n",
    "Classification_report\n",
    "                 precision    recall  f1-score   support\n",
    "\n",
    "    Iris-setosa       1.00      1.00      1.00        15\n",
    "Iris-versicolor       1.00      1.00      1.00        11\n",
    " Iris-virginica       1.00      1.00      1.00        12\n",
    "\n",
    "       accuracy                           1.00        38\n",
    "      macro avg       1.00      1.00      1.00        38\n",
    "   weighted avg       1.00      1.00      1.00        38\n",
    "</pre>"
   ]
  },
  {
   "cell_type": "markdown",
   "metadata": {},
   "source": [
    "<h4><b>KNN</b></h4>\n",
    "\n",
    "<pre>\n",
    "Accuracy score  : 1.0\n",
    "-------------------------------------------\n",
    "\n",
    "Confusion_matrix\n",
    "[[15  0  0]\n",
    " [ 0 11  0]\n",
    " [ 0  0 12]]\n",
    "\n",
    "-------------------------------------------\n",
    "\n",
    "Classification_report\n",
    "                 precision    recall  f1-score   support\n",
    "\n",
    "    Iris-setosa       1.00      1.00      1.00        15\n",
    "Iris-versicolor       1.00      1.00      1.00        11\n",
    " Iris-virginica       1.00      1.00      1.00        12\n",
    "\n",
    "       accuracy                           1.00        38\n",
    "      macro avg       1.00      1.00      1.00        38\n",
    "   weighted avg       1.00      1.00      1.00        38\n",
    "</pre>"
   ]
  },
  {
   "cell_type": "markdown",
   "metadata": {},
   "source": [
    "<h4><b>DECISION TREE</b></h4>\n",
    "\n",
    "<pre>\n",
    "Accuracy score  : 1.0\n",
    "-------------------------------------------\n",
    "\n",
    "Confusion_matrix\n",
    "[[15  0  0]\n",
    " [ 0 11  0]\n",
    " [ 0  0 12]]\n",
    "\n",
    "-------------------------------------------\n",
    "\n",
    "Classification_report\n",
    "                 precision    recall  f1-score   support\n",
    "\n",
    "    Iris-setosa       1.00      1.00      1.00        15\n",
    "Iris-versicolor       1.00      1.00      1.00        11\n",
    " Iris-virginica       1.00      1.00      1.00        12\n",
    "\n",
    "       accuracy                           1.00        38\n",
    "      macro avg       1.00      1.00      1.00        38\n",
    "   weighted avg       1.00      1.00      1.00        38\n",
    "</pre>"
   ]
  },
  {
   "cell_type": "markdown",
   "metadata": {},
   "source": [
    "<h4><b>RANDOM FOREST</b></h4>\n",
    "\n",
    "<pre>\n",
    "Accuracy score  : 1.0\n",
    "-------------------------------------------\n",
    "\n",
    "Confusion_matrix\n",
    "[[15  0  0]\n",
    " [ 0 11  0]\n",
    " [ 0  0 12]]\n",
    "\n",
    "-------------------------------------------\n",
    "\n",
    "Classification_report\n",
    "                 precision    recall  f1-score   support\n",
    "\n",
    "    Iris-setosa       1.00      1.00      1.00        15\n",
    "Iris-versicolor       1.00      1.00      1.00        11\n",
    " Iris-virginica       1.00      1.00      1.00        12\n",
    "\n",
    "       accuracy                           1.00        38\n",
    "      macro avg       1.00      1.00      1.00        38\n",
    "   weighted avg       1.00      1.00      1.00        38\n",
    "</pre>"
   ]
  },
  {
   "cell_type": "markdown",
   "metadata": {},
   "source": [
    "<pre>--------------------------------------------------------------</pre>"
   ]
  },
  {
   "cell_type": "markdown",
   "metadata": {},
   "source": [
    "<h3>INFERENCE</h3>\n",
    "<h4>\n",
    "All models <b>(KNN,SVM,Decision Tree,Random Forest)</b> perform well, achieving an accuracy score of <b>1 (100%)</b><br>\n",
    "<b>Logistic Regression</b>, while not achieving a perfect score, still performs very well with an accuracy of </b>0.97 (97%), which is very close to 1.\n",
    "<h4>"
   ]
  }
 ],
 "metadata": {
  "kernelspec": {
   "display_name": "Python 3",
   "language": "python",
   "name": "python3"
  },
  "language_info": {
   "codemirror_mode": {
    "name": "ipython",
    "version": 3
   },
   "file_extension": ".py",
   "mimetype": "text/x-python",
   "name": "python",
   "nbconvert_exporter": "python",
   "pygments_lexer": "ipython3",
   "version": "3.11.5"
  }
 },
 "nbformat": 4,
 "nbformat_minor": 2
}
