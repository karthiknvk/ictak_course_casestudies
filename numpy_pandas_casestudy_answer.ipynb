{
 "cells": [
  {
   "cell_type": "markdown",
   "metadata": {},
   "source": [
    "# 📚 **NumPy, Pandas, Matplotlib, and Seaborn Practice Questions**\n",
    "---\n",
    "This notebook contains four sets of practice questions covering NumPy, Pandas, Matplotlib, and Seaborn. Complete the tasks below and run the respective cells."
   ]
  },
  {
   "cell_type": "markdown",
   "metadata": {},
   "source": [
    "## 🧠 **Question 1: NumPy Array Manipulation**\n",
    "1. Create a 1D NumPy array with integers from **1 to 24**.  \n",
    "2. Reshape the array into a **4x6 matrix**.  \n",
    "3. Extract the **third row** and **second column** from the reshaped array.  \n",
    "4. Transpose the matrix and display the result."
   ]
  },
  {
   "cell_type": "markdown",
   "id": "b6c2c744",
   "metadata": {},
   "source": [
    "<h4>QUESTION 1</h4>\n",
    "Create a 1D NumPy array with integers from <b>1 to 24<b>"
   ]
  },
  {
   "cell_type": "code",
   "execution_count": 1,
   "metadata": {},
   "outputs": [
    {
     "data": {
      "text/plain": [
       "array([ 1,  2,  3,  4,  5,  6,  7,  8,  9, 10, 11, 12, 13, 14, 15, 16, 17,\n",
       "       18, 19, 20, 21, 22, 23, 24])"
      ]
     },
     "execution_count": 1,
     "metadata": {},
     "output_type": "execute_result"
    }
   ],
   "source": [
    "# Solution for Question 1\n",
    "import numpy as np\n",
    "\n",
    "arr1=np.arange(1,25)\n",
    "arr1\n"
   ]
  },
  {
   "cell_type": "code",
   "execution_count": 2,
   "id": "f5e0b5df",
   "metadata": {},
   "outputs": [
    {
     "data": {
      "text/plain": [
       "(24,)"
      ]
     },
     "execution_count": 2,
     "metadata": {},
     "output_type": "execute_result"
    }
   ],
   "source": [
    "arr1.shape"
   ]
  },
  {
   "cell_type": "markdown",
   "id": "6ba7a409",
   "metadata": {},
   "source": [
    "<h4>QUESTION 2</h4>\n",
    "Reshape the array into a <b>4x6 matrix</b>."
   ]
  },
  {
   "cell_type": "code",
   "execution_count": 3,
   "id": "b4603055",
   "metadata": {},
   "outputs": [],
   "source": [
    "new_array=arr1.reshape(4,6)\n"
   ]
  },
  {
   "cell_type": "code",
   "execution_count": 4,
   "id": "be57787a",
   "metadata": {},
   "outputs": [
    {
     "data": {
      "text/plain": [
       "(4, 6)"
      ]
     },
     "execution_count": 4,
     "metadata": {},
     "output_type": "execute_result"
    }
   ],
   "source": [
    "new_array.shape"
   ]
  },
  {
   "cell_type": "code",
   "execution_count": 5,
   "id": "b8483c02",
   "metadata": {},
   "outputs": [
    {
     "data": {
      "text/plain": [
       "array([[ 1,  2,  3,  4,  5,  6],\n",
       "       [ 7,  8,  9, 10, 11, 12],\n",
       "       [13, 14, 15, 16, 17, 18],\n",
       "       [19, 20, 21, 22, 23, 24]])"
      ]
     },
     "execution_count": 5,
     "metadata": {},
     "output_type": "execute_result"
    }
   ],
   "source": [
    "new_array"
   ]
  },
  {
   "cell_type": "markdown",
   "id": "c0f4fbc9",
   "metadata": {},
   "source": [
    "<h4>QUESTION 3</h4>\n",
    "Extract the <b>third row</b> and <b>second column</b> from the reshaped array.\n"
   ]
  },
  {
   "cell_type": "code",
   "execution_count": 6,
   "id": "d42b3912",
   "metadata": {},
   "outputs": [
    {
     "data": {
      "text/plain": [
       "14"
      ]
     },
     "execution_count": 6,
     "metadata": {},
     "output_type": "execute_result"
    }
   ],
   "source": [
    "new_array[2,1]"
   ]
  },
  {
   "cell_type": "markdown",
   "id": "99a41c29",
   "metadata": {},
   "source": [
    "<h4>QUESTION 4</h4>\n",
    "\n",
    "Transpose the matrix and display the result."
   ]
  },
  {
   "cell_type": "code",
   "execution_count": 7,
   "id": "eaf282ac",
   "metadata": {},
   "outputs": [
    {
     "data": {
      "text/plain": [
       "array([[ 1,  7, 13, 19],\n",
       "       [ 2,  8, 14, 20],\n",
       "       [ 3,  9, 15, 21],\n",
       "       [ 4, 10, 16, 22],\n",
       "       [ 5, 11, 17, 23],\n",
       "       [ 6, 12, 18, 24]])"
      ]
     },
     "execution_count": 7,
     "metadata": {},
     "output_type": "execute_result"
    }
   ],
   "source": [
    "new_array.transpose()"
   ]
  },
  {
   "cell_type": "markdown",
   "metadata": {},
   "source": [
    "## 🧠 **Question 2: Array Element Extraction**\n",
    "1. Create a **5x5 NumPy array** with random integers between **10 and 100**.  \n",
    "2. Extract all the **even numbers** from the array.  \n",
    "3. Replace all numbers **greater than 50** with **0**.  \n",
    "4. Extract the diagonal elements of the array."
   ]
  },
  {
   "cell_type": "markdown",
   "id": "ff55f09d",
   "metadata": {},
   "source": [
    "<h4>QUESTION 1</h4>\n",
    "Create a <b>5x5 NumPy array</b> with random integers between <b>10 and 100</b>.\n"
   ]
  },
  {
   "cell_type": "code",
   "execution_count": 8,
   "metadata": {},
   "outputs": [
    {
     "data": {
      "text/plain": [
       "array([[81, 60, 91, 31, 58],\n",
       "       [79, 84, 30, 58, 74],\n",
       "       [69, 69, 98, 56, 43],\n",
       "       [34, 38, 68, 43, 96],\n",
       "       [83, 33, 37, 83, 80]])"
      ]
     },
     "execution_count": 8,
     "metadata": {},
     "output_type": "execute_result"
    }
   ],
   "source": [
    "# Solution for Question 2\n",
    "import numpy as np\n",
    "\n",
    "arr2=np.random.randint(10,100,size=(5,5))\n",
    "arr2"
   ]
  },
  {
   "cell_type": "markdown",
   "id": "dc34cffd",
   "metadata": {},
   "source": [
    "<h4>QUESTION 2</h4>\n",
    "Extract all the <b>even numbers</b> from the array.\n"
   ]
  },
  {
   "cell_type": "code",
   "execution_count": 9,
   "id": "e79d6550",
   "metadata": {},
   "outputs": [],
   "source": [
    "def even_fun(arr):\n",
    "  for i in range(5):\n",
    "    for j in range(5):\n",
    "      if arr2[i][j]%2==0:\n",
    "        print(arr2[i][j])\n"
   ]
  },
  {
   "cell_type": "code",
   "execution_count": 10,
   "id": "c7bce983",
   "metadata": {},
   "outputs": [
    {
     "name": "stdout",
     "output_type": "stream",
     "text": [
      "60\n",
      "58\n",
      "84\n",
      "30\n",
      "58\n",
      "74\n",
      "98\n",
      "56\n",
      "34\n",
      "38\n",
      "68\n",
      "96\n",
      "80\n"
     ]
    }
   ],
   "source": [
    "even_fun(arr2)"
   ]
  },
  {
   "cell_type": "markdown",
   "id": "fc3b8727",
   "metadata": {},
   "source": [
    "<h4>QUESTION 3</h4>\n",
    "Replace all numbers <b>greater than 50</b> with <b>0</b>.\n"
   ]
  },
  {
   "cell_type": "code",
   "execution_count": 11,
   "id": "dde2fff6",
   "metadata": {},
   "outputs": [],
   "source": [
    "def replace_fun(arr):\n",
    "  for i in range(5):\n",
    "    for j in range(5):\n",
    "      if arr2[i][j]>50:\n",
    "        arr2[i][j]=0"
   ]
  },
  {
   "cell_type": "code",
   "execution_count": 12,
   "id": "f2e38423",
   "metadata": {},
   "outputs": [
    {
     "name": "stdout",
     "output_type": "stream",
     "text": [
      "Before replacment : [[81 60 91 31 58]\n",
      " [79 84 30 58 74]\n",
      " [69 69 98 56 43]\n",
      " [34 38 68 43 96]\n",
      " [83 33 37 83 80]]\n",
      "After replacment : [[ 0  0  0 31  0]\n",
      " [ 0  0 30  0  0]\n",
      " [ 0  0  0  0 43]\n",
      " [34 38  0 43  0]\n",
      " [ 0 33 37  0  0]]\n"
     ]
    }
   ],
   "source": [
    "print(f\"Before replacment : {arr2}\")\n",
    "replace_fun(arr2)\n",
    "print(f\"After replacment : {arr2}\")\n"
   ]
  },
  {
   "cell_type": "markdown",
   "id": "ee253737",
   "metadata": {},
   "source": [
    "<h4>QUESTION 4</h4>\n",
    "\n",
    "Extract the diagonal elements of the array.\n"
   ]
  },
  {
   "cell_type": "code",
   "execution_count": 13,
   "id": "5a1260eb",
   "metadata": {},
   "outputs": [
    {
     "data": {
      "text/plain": [
       "array([ 0,  0,  0, 43,  0])"
      ]
     },
     "execution_count": 13,
     "metadata": {},
     "output_type": "execute_result"
    }
   ],
   "source": [
    "np.diag(arr2)"
   ]
  },
  {
   "cell_type": "markdown",
   "metadata": {},
   "source": [
    "## 🧠 **Question 3: DataFrame Creation and Operations (Pandas)**\n",
    "1. Create a Pandas DataFrame containing the following data:\n",
    "\n",
    "| Student_ID | Name   | Subject | Marks |\n",
    "|------------|--------|---------|-------|\n",
    "| 1          | Alice  | Math    | 88    |\n",
    "| 2          | Bob    | Science | 75    |\n",
    "| 3          | Carol  | History | 92    |\n",
    "| 4          | David  | Math    | 85    |\n",
    "| 5          | Eva    | Science | 90    |\n",
    "\n",
    "2. Find the **average marks** for each subject.  \n",
    "3. Add a new column named **Grade** based on the marks:\n",
    "- Marks ≥ 90 → A\n",
    "- Marks ≥ 80 → B\n",
    "- Marks ≥ 70 → C\n",
    "- Else → D"
   ]
  },
  {
   "cell_type": "markdown",
   "id": "5481bcca",
   "metadata": {},
   "source": [
    "<h4>QUESTION 1</h4>\n",
    "Create a Pandas DataFrame containing the following data:\n",
    "\n",
    "| Student_ID | Name   | Subject | Marks |\n",
    "|------------|--------|---------|-------|\n",
    "| 1          | Alice  | Math    | 88    |\n",
    "| 2          | Bob    | Science | 75    |\n",
    "| 3          | Carol  | History | 92    |\n",
    "| 4          | David  | Math    | 85    |\n",
    "| 5          | Eva    | Science | 90    |\n"
   ]
  },
  {
   "cell_type": "code",
   "execution_count": 14,
   "metadata": {},
   "outputs": [],
   "source": [
    "# Solution for Question 3\n",
    "import pandas as pd\n",
    "dict1={'Student_ID':[1,2,3,4,5],'Name':['Alice','Bob','Carol','David','Eva'],'Subject':['Math','Science','History','Math','Science'],'Marks':[88,75,92,85,90]}\n"
   ]
  },
  {
   "cell_type": "code",
   "execution_count": 15,
   "id": "dd93b272",
   "metadata": {},
   "outputs": [
    {
     "data": {
      "text/plain": [
       "{'Student_ID': [1, 2, 3, 4, 5],\n",
       " 'Name': ['Alice', 'Bob', 'Carol', 'David', 'Eva'],\n",
       " 'Subject': ['Math', 'Science', 'History', 'Math', 'Science'],\n",
       " 'Marks': [88, 75, 92, 85, 90]}"
      ]
     },
     "execution_count": 15,
     "metadata": {},
     "output_type": "execute_result"
    }
   ],
   "source": [
    "dict1"
   ]
  },
  {
   "cell_type": "code",
   "execution_count": 34,
   "id": "d089d951",
   "metadata": {},
   "outputs": [
    {
     "data": {
      "text/html": [
       "<div>\n",
       "<style scoped>\n",
       "    .dataframe tbody tr th:only-of-type {\n",
       "        vertical-align: middle;\n",
       "    }\n",
       "\n",
       "    .dataframe tbody tr th {\n",
       "        vertical-align: top;\n",
       "    }\n",
       "\n",
       "    .dataframe thead th {\n",
       "        text-align: right;\n",
       "    }\n",
       "</style>\n",
       "<table border=\"1\" class=\"dataframe\">\n",
       "  <thead>\n",
       "    <tr style=\"text-align: right;\">\n",
       "      <th></th>\n",
       "      <th>Student_ID</th>\n",
       "      <th>Name</th>\n",
       "      <th>Subject</th>\n",
       "      <th>Marks</th>\n",
       "    </tr>\n",
       "  </thead>\n",
       "  <tbody>\n",
       "    <tr>\n",
       "      <th>0</th>\n",
       "      <td>1</td>\n",
       "      <td>Alice</td>\n",
       "      <td>Math</td>\n",
       "      <td>88</td>\n",
       "    </tr>\n",
       "    <tr>\n",
       "      <th>1</th>\n",
       "      <td>2</td>\n",
       "      <td>Bob</td>\n",
       "      <td>Science</td>\n",
       "      <td>75</td>\n",
       "    </tr>\n",
       "    <tr>\n",
       "      <th>2</th>\n",
       "      <td>3</td>\n",
       "      <td>Carol</td>\n",
       "      <td>History</td>\n",
       "      <td>92</td>\n",
       "    </tr>\n",
       "    <tr>\n",
       "      <th>3</th>\n",
       "      <td>4</td>\n",
       "      <td>David</td>\n",
       "      <td>Math</td>\n",
       "      <td>85</td>\n",
       "    </tr>\n",
       "    <tr>\n",
       "      <th>4</th>\n",
       "      <td>5</td>\n",
       "      <td>Eva</td>\n",
       "      <td>Science</td>\n",
       "      <td>90</td>\n",
       "    </tr>\n",
       "  </tbody>\n",
       "</table>\n",
       "</div>"
      ],
      "text/plain": [
       "   Student_ID   Name  Subject  Marks\n",
       "0           1  Alice     Math     88\n",
       "1           2    Bob  Science     75\n",
       "2           3  Carol  History     92\n",
       "3           4  David     Math     85\n",
       "4           5    Eva  Science     90"
      ]
     },
     "execution_count": 34,
     "metadata": {},
     "output_type": "execute_result"
    }
   ],
   "source": [
    "data1=pd.DataFrame(data=dict1,columns=dict1.keys(),)\n",
    "data1"
   ]
  },
  {
   "cell_type": "markdown",
   "id": "e0de1e2a",
   "metadata": {},
   "source": [
    "<h4>QUESTION 2</h4>\n",
    "Find the <b>average marks</b> for each subject.\n"
   ]
  },
  {
   "cell_type": "code",
   "execution_count": 17,
   "id": "40a2be7d",
   "metadata": {},
   "outputs": [
    {
     "data": {
      "text/plain": [
       "Subject\n",
       "History    92.0\n",
       "Math       86.5\n",
       "Science    82.5\n",
       "Name: Marks, dtype: float64"
      ]
     },
     "execution_count": 17,
     "metadata": {},
     "output_type": "execute_result"
    }
   ],
   "source": [
    "data1.groupby('Subject').mean(numeric_only=True)['Marks']"
   ]
  },
  {
   "cell_type": "markdown",
   "id": "36d52f23",
   "metadata": {},
   "source": [
    "<h4>QUESTION 3</h4>\n",
    "<pre>Add a new column named <b>Grade</b> based on the marks:\n",
    "- Marks ≥ 90 → A\n",
    "- Marks ≥ 80 → B\n",
    "- Marks ≥ 70 → C\n",
    "- Else → D</pre>\n"
   ]
  },
  {
   "cell_type": "code",
   "execution_count": 18,
   "id": "8961addf",
   "metadata": {},
   "outputs": [],
   "source": [
    "def grade_fun(mark):\n",
    "  if mark>=90:\n",
    "    return 'A'\n",
    "  elif mark>=80:\n",
    "    return 'B'\n",
    "  elif mark>=70:\n",
    "    return 'C'\n",
    "  else:\n",
    "    return 'D'"
   ]
  },
  {
   "cell_type": "code",
   "execution_count": 19,
   "id": "c4a43c54",
   "metadata": {},
   "outputs": [],
   "source": [
    "data1['Grade']=data1['Marks'].apply(lambda mark:grade_fun(mark))"
   ]
  },
  {
   "cell_type": "code",
   "execution_count": 20,
   "id": "23798c22",
   "metadata": {},
   "outputs": [
    {
     "data": {
      "text/html": [
       "<div>\n",
       "<style scoped>\n",
       "    .dataframe tbody tr th:only-of-type {\n",
       "        vertical-align: middle;\n",
       "    }\n",
       "\n",
       "    .dataframe tbody tr th {\n",
       "        vertical-align: top;\n",
       "    }\n",
       "\n",
       "    .dataframe thead th {\n",
       "        text-align: right;\n",
       "    }\n",
       "</style>\n",
       "<table border=\"1\" class=\"dataframe\">\n",
       "  <thead>\n",
       "    <tr style=\"text-align: right;\">\n",
       "      <th></th>\n",
       "      <th>Student_ID</th>\n",
       "      <th>Name</th>\n",
       "      <th>Subject</th>\n",
       "      <th>Marks</th>\n",
       "      <th>Grade</th>\n",
       "    </tr>\n",
       "  </thead>\n",
       "  <tbody>\n",
       "    <tr>\n",
       "      <th>1</th>\n",
       "      <td>1</td>\n",
       "      <td>Alice</td>\n",
       "      <td>Math</td>\n",
       "      <td>88</td>\n",
       "      <td>B</td>\n",
       "    </tr>\n",
       "    <tr>\n",
       "      <th>2</th>\n",
       "      <td>2</td>\n",
       "      <td>Bob</td>\n",
       "      <td>Science</td>\n",
       "      <td>75</td>\n",
       "      <td>C</td>\n",
       "    </tr>\n",
       "    <tr>\n",
       "      <th>3</th>\n",
       "      <td>3</td>\n",
       "      <td>Carol</td>\n",
       "      <td>History</td>\n",
       "      <td>92</td>\n",
       "      <td>A</td>\n",
       "    </tr>\n",
       "    <tr>\n",
       "      <th>4</th>\n",
       "      <td>4</td>\n",
       "      <td>David</td>\n",
       "      <td>Math</td>\n",
       "      <td>85</td>\n",
       "      <td>B</td>\n",
       "    </tr>\n",
       "    <tr>\n",
       "      <th>5</th>\n",
       "      <td>5</td>\n",
       "      <td>Eva</td>\n",
       "      <td>Science</td>\n",
       "      <td>90</td>\n",
       "      <td>A</td>\n",
       "    </tr>\n",
       "  </tbody>\n",
       "</table>\n",
       "</div>"
      ],
      "text/plain": [
       "   Student_ID   Name  Subject  Marks Grade\n",
       "1           1  Alice     Math     88     B\n",
       "2           2    Bob  Science     75     C\n",
       "3           3  Carol  History     92     A\n",
       "4           4  David     Math     85     B\n",
       "5           5    Eva  Science     90     A"
      ]
     },
     "execution_count": 20,
     "metadata": {},
     "output_type": "execute_result"
    }
   ],
   "source": [
    "data1"
   ]
  },
  {
   "cell_type": "markdown",
   "metadata": {},
   "source": [
    "## 🧠 **Question 4: Dataset Analysis (Pandas, Matplotlib, Seaborn)**\n",
    "Use the dataset `diabetes.csv` and perform the following tasks:\n",
    "\n",
    "1. Display the **BMI** and **Blood Pressure** for samples with **index ranging from 20 to 40**.  \n",
    "2. Find how many patients have **BMI > 30**.  \n",
    "3. Find the **mean and standard deviation** of the **Glucose** levels.  \n",
    "4. Plot a **boxplot** for the column **Insulin**.  \n",
    "5. Create a **heatmap** showing the correlation between the numerical columns in the dataset."
   ]
  },
  {
   "cell_type": "code",
   "execution_count": 21,
   "metadata": {},
   "outputs": [],
   "source": [
    "# Solution for Question 4\n",
    "import pandas as pd\n",
    "import matplotlib.pyplot as plt\n",
    "import seaborn as sns\n",
    "\n"
   ]
  },
  {
   "cell_type": "code",
   "execution_count": 22,
   "id": "fee5a89f",
   "metadata": {},
   "outputs": [
    {
     "data": {
      "text/html": [
       "<div>\n",
       "<style scoped>\n",
       "    .dataframe tbody tr th:only-of-type {\n",
       "        vertical-align: middle;\n",
       "    }\n",
       "\n",
       "    .dataframe tbody tr th {\n",
       "        vertical-align: top;\n",
       "    }\n",
       "\n",
       "    .dataframe thead th {\n",
       "        text-align: right;\n",
       "    }\n",
       "</style>\n",
       "<table border=\"1\" class=\"dataframe\">\n",
       "  <thead>\n",
       "    <tr style=\"text-align: right;\">\n",
       "      <th></th>\n",
       "      <th>Pregnancies</th>\n",
       "      <th>Glucose</th>\n",
       "      <th>BloodPressure</th>\n",
       "      <th>SkinThickness</th>\n",
       "      <th>Insulin</th>\n",
       "      <th>BMI</th>\n",
       "      <th>DiabetesPedigreeFunction</th>\n",
       "      <th>Age</th>\n",
       "      <th>Outcome</th>\n",
       "    </tr>\n",
       "  </thead>\n",
       "  <tbody>\n",
       "    <tr>\n",
       "      <th>0</th>\n",
       "      <td>5</td>\n",
       "      <td>77</td>\n",
       "      <td>82</td>\n",
       "      <td>41</td>\n",
       "      <td>42</td>\n",
       "      <td>35.8</td>\n",
       "      <td>0.156</td>\n",
       "      <td>35</td>\n",
       "      <td>0</td>\n",
       "    </tr>\n",
       "    <tr>\n",
       "      <th>1</th>\n",
       "      <td>9</td>\n",
       "      <td>122</td>\n",
       "      <td>56</td>\n",
       "      <td>0</td>\n",
       "      <td>0</td>\n",
       "      <td>33.3</td>\n",
       "      <td>1.114</td>\n",
       "      <td>33</td>\n",
       "      <td>1</td>\n",
       "    </tr>\n",
       "    <tr>\n",
       "      <th>2</th>\n",
       "      <td>0</td>\n",
       "      <td>113</td>\n",
       "      <td>76</td>\n",
       "      <td>0</td>\n",
       "      <td>0</td>\n",
       "      <td>33.3</td>\n",
       "      <td>0.278</td>\n",
       "      <td>23</td>\n",
       "      <td>1</td>\n",
       "    </tr>\n",
       "    <tr>\n",
       "      <th>3</th>\n",
       "      <td>1</td>\n",
       "      <td>139</td>\n",
       "      <td>62</td>\n",
       "      <td>41</td>\n",
       "      <td>480</td>\n",
       "      <td>40.7</td>\n",
       "      <td>0.536</td>\n",
       "      <td>21</td>\n",
       "      <td>0</td>\n",
       "    </tr>\n",
       "    <tr>\n",
       "      <th>4</th>\n",
       "      <td>10</td>\n",
       "      <td>161</td>\n",
       "      <td>68</td>\n",
       "      <td>23</td>\n",
       "      <td>132</td>\n",
       "      <td>25.5</td>\n",
       "      <td>0.326</td>\n",
       "      <td>47</td>\n",
       "      <td>1</td>\n",
       "    </tr>\n",
       "    <tr>\n",
       "      <th>...</th>\n",
       "      <td>...</td>\n",
       "      <td>...</td>\n",
       "      <td>...</td>\n",
       "      <td>...</td>\n",
       "      <td>...</td>\n",
       "      <td>...</td>\n",
       "      <td>...</td>\n",
       "      <td>...</td>\n",
       "      <td>...</td>\n",
       "    </tr>\n",
       "    <tr>\n",
       "      <th>609</th>\n",
       "      <td>4</td>\n",
       "      <td>114</td>\n",
       "      <td>64</td>\n",
       "      <td>0</td>\n",
       "      <td>0</td>\n",
       "      <td>28.9</td>\n",
       "      <td>0.126</td>\n",
       "      <td>24</td>\n",
       "      <td>0</td>\n",
       "    </tr>\n",
       "    <tr>\n",
       "      <th>610</th>\n",
       "      <td>2</td>\n",
       "      <td>175</td>\n",
       "      <td>88</td>\n",
       "      <td>0</td>\n",
       "      <td>0</td>\n",
       "      <td>22.9</td>\n",
       "      <td>0.326</td>\n",
       "      <td>22</td>\n",
       "      <td>0</td>\n",
       "    </tr>\n",
       "    <tr>\n",
       "      <th>611</th>\n",
       "      <td>3</td>\n",
       "      <td>121</td>\n",
       "      <td>52</td>\n",
       "      <td>0</td>\n",
       "      <td>0</td>\n",
       "      <td>36.0</td>\n",
       "      <td>0.127</td>\n",
       "      <td>25</td>\n",
       "      <td>1</td>\n",
       "    </tr>\n",
       "    <tr>\n",
       "      <th>612</th>\n",
       "      <td>7</td>\n",
       "      <td>136</td>\n",
       "      <td>74</td>\n",
       "      <td>26</td>\n",
       "      <td>135</td>\n",
       "      <td>26.0</td>\n",
       "      <td>0.647</td>\n",
       "      <td>51</td>\n",
       "      <td>0</td>\n",
       "    </tr>\n",
       "    <tr>\n",
       "      <th>613</th>\n",
       "      <td>4</td>\n",
       "      <td>156</td>\n",
       "      <td>75</td>\n",
       "      <td>0</td>\n",
       "      <td>0</td>\n",
       "      <td>48.3</td>\n",
       "      <td>0.238</td>\n",
       "      <td>32</td>\n",
       "      <td>1</td>\n",
       "    </tr>\n",
       "  </tbody>\n",
       "</table>\n",
       "<p>614 rows × 9 columns</p>\n",
       "</div>"
      ],
      "text/plain": [
       "     Pregnancies  Glucose  BloodPressure  SkinThickness  Insulin   BMI  \\\n",
       "0              5       77             82             41       42  35.8   \n",
       "1              9      122             56              0        0  33.3   \n",
       "2              0      113             76              0        0  33.3   \n",
       "3              1      139             62             41      480  40.7   \n",
       "4             10      161             68             23      132  25.5   \n",
       "..           ...      ...            ...            ...      ...   ...   \n",
       "609            4      114             64              0        0  28.9   \n",
       "610            2      175             88              0        0  22.9   \n",
       "611            3      121             52              0        0  36.0   \n",
       "612            7      136             74             26      135  26.0   \n",
       "613            4      156             75              0        0  48.3   \n",
       "\n",
       "     DiabetesPedigreeFunction  Age  Outcome  \n",
       "0                       0.156   35        0  \n",
       "1                       1.114   33        1  \n",
       "2                       0.278   23        1  \n",
       "3                       0.536   21        0  \n",
       "4                       0.326   47        1  \n",
       "..                        ...  ...      ...  \n",
       "609                     0.126   24        0  \n",
       "610                     0.326   22        0  \n",
       "611                     0.127   25        1  \n",
       "612                     0.647   51        0  \n",
       "613                     0.238   32        1  \n",
       "\n",
       "[614 rows x 9 columns]"
      ]
     },
     "execution_count": 22,
     "metadata": {},
     "output_type": "execute_result"
    }
   ],
   "source": [
    "diabetes_data=pd.read_csv('diabetes_model.csv')\n",
    "diabetes_data"
   ]
  },
  {
   "cell_type": "code",
   "execution_count": 23,
   "id": "4aee3a6c",
   "metadata": {},
   "outputs": [
    {
     "name": "stdout",
     "output_type": "stream",
     "text": [
      "<class 'pandas.core.frame.DataFrame'>\n",
      "RangeIndex: 614 entries, 0 to 613\n",
      "Data columns (total 9 columns):\n",
      " #   Column                    Non-Null Count  Dtype  \n",
      "---  ------                    --------------  -----  \n",
      " 0   Pregnancies               614 non-null    int64  \n",
      " 1   Glucose                   614 non-null    int64  \n",
      " 2   BloodPressure             614 non-null    int64  \n",
      " 3   SkinThickness             614 non-null    int64  \n",
      " 4   Insulin                   614 non-null    int64  \n",
      " 5   BMI                       614 non-null    float64\n",
      " 6   DiabetesPedigreeFunction  614 non-null    float64\n",
      " 7   Age                       614 non-null    int64  \n",
      " 8   Outcome                   614 non-null    int64  \n",
      "dtypes: float64(2), int64(7)\n",
      "memory usage: 43.3 KB\n"
     ]
    }
   ],
   "source": [
    "diabetes_data.info()"
   ]
  },
  {
   "cell_type": "code",
   "execution_count": 24,
   "id": "0c58bb8f",
   "metadata": {},
   "outputs": [
    {
     "data": {
      "text/plain": [
       "Index(['Pregnancies', 'Glucose', 'BloodPressure', 'SkinThickness', 'Insulin',\n",
       "       'BMI', 'DiabetesPedigreeFunction', 'Age', 'Outcome'],\n",
       "      dtype='object')"
      ]
     },
     "execution_count": 24,
     "metadata": {},
     "output_type": "execute_result"
    }
   ],
   "source": [
    "diabetes_data.columns"
   ]
  },
  {
   "cell_type": "markdown",
   "id": "78516d83",
   "metadata": {},
   "source": [
    "<h4>QUESTION 1</h4>\n",
    "Display the <b>BMI</b> and <b>Blood Pressure</b> for samples with <b>index ranging from 20 to 40</b>. "
   ]
  },
  {
   "cell_type": "code",
   "execution_count": 25,
   "id": "f3f8bd4a",
   "metadata": {},
   "outputs": [
    {
     "data": {
      "text/html": [
       "<div>\n",
       "<style scoped>\n",
       "    .dataframe tbody tr th:only-of-type {\n",
       "        vertical-align: middle;\n",
       "    }\n",
       "\n",
       "    .dataframe tbody tr th {\n",
       "        vertical-align: top;\n",
       "    }\n",
       "\n",
       "    .dataframe thead th {\n",
       "        text-align: right;\n",
       "    }\n",
       "</style>\n",
       "<table border=\"1\" class=\"dataframe\">\n",
       "  <thead>\n",
       "    <tr style=\"text-align: right;\">\n",
       "      <th></th>\n",
       "      <th>BMI</th>\n",
       "      <th>BloodPressure</th>\n",
       "    </tr>\n",
       "  </thead>\n",
       "  <tbody>\n",
       "    <tr>\n",
       "      <th>20</th>\n",
       "      <td>34.2</td>\n",
       "      <td>70</td>\n",
       "    </tr>\n",
       "    <tr>\n",
       "      <th>21</th>\n",
       "      <td>35.0</td>\n",
       "      <td>82</td>\n",
       "    </tr>\n",
       "    <tr>\n",
       "      <th>22</th>\n",
       "      <td>30.5</td>\n",
       "      <td>74</td>\n",
       "    </tr>\n",
       "    <tr>\n",
       "      <th>23</th>\n",
       "      <td>31.6</td>\n",
       "      <td>70</td>\n",
       "    </tr>\n",
       "    <tr>\n",
       "      <th>24</th>\n",
       "      <td>22.1</td>\n",
       "      <td>62</td>\n",
       "    </tr>\n",
       "    <tr>\n",
       "      <th>25</th>\n",
       "      <td>27.1</td>\n",
       "      <td>88</td>\n",
       "    </tr>\n",
       "    <tr>\n",
       "      <th>26</th>\n",
       "      <td>43.5</td>\n",
       "      <td>60</td>\n",
       "    </tr>\n",
       "    <tr>\n",
       "      <th>27</th>\n",
       "      <td>36.0</td>\n",
       "      <td>75</td>\n",
       "    </tr>\n",
       "    <tr>\n",
       "      <th>28</th>\n",
       "      <td>34.2</td>\n",
       "      <td>70</td>\n",
       "    </tr>\n",
       "    <tr>\n",
       "      <th>29</th>\n",
       "      <td>36.5</td>\n",
       "      <td>90</td>\n",
       "    </tr>\n",
       "    <tr>\n",
       "      <th>30</th>\n",
       "      <td>30.4</td>\n",
       "      <td>86</td>\n",
       "    </tr>\n",
       "    <tr>\n",
       "      <th>31</th>\n",
       "      <td>43.3</td>\n",
       "      <td>78</td>\n",
       "    </tr>\n",
       "    <tr>\n",
       "      <th>32</th>\n",
       "      <td>37.7</td>\n",
       "      <td>68</td>\n",
       "    </tr>\n",
       "    <tr>\n",
       "      <th>33</th>\n",
       "      <td>23.0</td>\n",
       "      <td>78</td>\n",
       "    </tr>\n",
       "    <tr>\n",
       "      <th>34</th>\n",
       "      <td>46.1</td>\n",
       "      <td>78</td>\n",
       "    </tr>\n",
       "    <tr>\n",
       "      <th>35</th>\n",
       "      <td>32.8</td>\n",
       "      <td>78</td>\n",
       "    </tr>\n",
       "    <tr>\n",
       "      <th>36</th>\n",
       "      <td>43.3</td>\n",
       "      <td>30</td>\n",
       "    </tr>\n",
       "    <tr>\n",
       "      <th>37</th>\n",
       "      <td>26.5</td>\n",
       "      <td>68</td>\n",
       "    </tr>\n",
       "    <tr>\n",
       "      <th>38</th>\n",
       "      <td>28.0</td>\n",
       "      <td>0</td>\n",
       "    </tr>\n",
       "    <tr>\n",
       "      <th>39</th>\n",
       "      <td>46.8</td>\n",
       "      <td>84</td>\n",
       "    </tr>\n",
       "    <tr>\n",
       "      <th>40</th>\n",
       "      <td>24.4</td>\n",
       "      <td>55</td>\n",
       "    </tr>\n",
       "  </tbody>\n",
       "</table>\n",
       "</div>"
      ],
      "text/plain": [
       "     BMI  BloodPressure\n",
       "20  34.2             70\n",
       "21  35.0             82\n",
       "22  30.5             74\n",
       "23  31.6             70\n",
       "24  22.1             62\n",
       "25  27.1             88\n",
       "26  43.5             60\n",
       "27  36.0             75\n",
       "28  34.2             70\n",
       "29  36.5             90\n",
       "30  30.4             86\n",
       "31  43.3             78\n",
       "32  37.7             68\n",
       "33  23.0             78\n",
       "34  46.1             78\n",
       "35  32.8             78\n",
       "36  43.3             30\n",
       "37  26.5             68\n",
       "38  28.0              0\n",
       "39  46.8             84\n",
       "40  24.4             55"
      ]
     },
     "execution_count": 25,
     "metadata": {},
     "output_type": "execute_result"
    }
   ],
   "source": [
    "diabetes_data.iloc[20:41][['BMI','BloodPressure']]"
   ]
  },
  {
   "cell_type": "markdown",
   "id": "5c7859d8",
   "metadata": {},
   "source": [
    "<h4>QUESTION 2</h4>\n",
    "Find how many patients have <b>BMI > 30</b>.\n"
   ]
  },
  {
   "cell_type": "code",
   "execution_count": 26,
   "id": "117b0dfb",
   "metadata": {},
   "outputs": [
    {
     "data": {
      "text/html": [
       "<div>\n",
       "<style scoped>\n",
       "    .dataframe tbody tr th:only-of-type {\n",
       "        vertical-align: middle;\n",
       "    }\n",
       "\n",
       "    .dataframe tbody tr th {\n",
       "        vertical-align: top;\n",
       "    }\n",
       "\n",
       "    .dataframe thead th {\n",
       "        text-align: right;\n",
       "    }\n",
       "</style>\n",
       "<table border=\"1\" class=\"dataframe\">\n",
       "  <thead>\n",
       "    <tr style=\"text-align: right;\">\n",
       "      <th></th>\n",
       "      <th>Pregnancies</th>\n",
       "      <th>Glucose</th>\n",
       "      <th>BloodPressure</th>\n",
       "      <th>SkinThickness</th>\n",
       "      <th>Insulin</th>\n",
       "      <th>BMI</th>\n",
       "      <th>DiabetesPedigreeFunction</th>\n",
       "      <th>Age</th>\n",
       "      <th>Outcome</th>\n",
       "    </tr>\n",
       "  </thead>\n",
       "  <tbody>\n",
       "    <tr>\n",
       "      <th>0</th>\n",
       "      <td>5</td>\n",
       "      <td>77</td>\n",
       "      <td>82</td>\n",
       "      <td>41</td>\n",
       "      <td>42</td>\n",
       "      <td>35.8</td>\n",
       "      <td>0.156</td>\n",
       "      <td>35</td>\n",
       "      <td>0</td>\n",
       "    </tr>\n",
       "    <tr>\n",
       "      <th>1</th>\n",
       "      <td>9</td>\n",
       "      <td>122</td>\n",
       "      <td>56</td>\n",
       "      <td>0</td>\n",
       "      <td>0</td>\n",
       "      <td>33.3</td>\n",
       "      <td>1.114</td>\n",
       "      <td>33</td>\n",
       "      <td>1</td>\n",
       "    </tr>\n",
       "    <tr>\n",
       "      <th>2</th>\n",
       "      <td>0</td>\n",
       "      <td>113</td>\n",
       "      <td>76</td>\n",
       "      <td>0</td>\n",
       "      <td>0</td>\n",
       "      <td>33.3</td>\n",
       "      <td>0.278</td>\n",
       "      <td>23</td>\n",
       "      <td>1</td>\n",
       "    </tr>\n",
       "    <tr>\n",
       "      <th>3</th>\n",
       "      <td>1</td>\n",
       "      <td>139</td>\n",
       "      <td>62</td>\n",
       "      <td>41</td>\n",
       "      <td>480</td>\n",
       "      <td>40.7</td>\n",
       "      <td>0.536</td>\n",
       "      <td>21</td>\n",
       "      <td>0</td>\n",
       "    </tr>\n",
       "    <tr>\n",
       "      <th>7</th>\n",
       "      <td>2</td>\n",
       "      <td>122</td>\n",
       "      <td>52</td>\n",
       "      <td>43</td>\n",
       "      <td>158</td>\n",
       "      <td>36.2</td>\n",
       "      <td>0.816</td>\n",
       "      <td>28</td>\n",
       "      <td>0</td>\n",
       "    </tr>\n",
       "    <tr>\n",
       "      <th>...</th>\n",
       "      <td>...</td>\n",
       "      <td>...</td>\n",
       "      <td>...</td>\n",
       "      <td>...</td>\n",
       "      <td>...</td>\n",
       "      <td>...</td>\n",
       "      <td>...</td>\n",
       "      <td>...</td>\n",
       "      <td>...</td>\n",
       "    </tr>\n",
       "    <tr>\n",
       "      <th>604</th>\n",
       "      <td>2</td>\n",
       "      <td>100</td>\n",
       "      <td>70</td>\n",
       "      <td>52</td>\n",
       "      <td>57</td>\n",
       "      <td>40.5</td>\n",
       "      <td>0.677</td>\n",
       "      <td>25</td>\n",
       "      <td>0</td>\n",
       "    </tr>\n",
       "    <tr>\n",
       "      <th>605</th>\n",
       "      <td>5</td>\n",
       "      <td>86</td>\n",
       "      <td>68</td>\n",
       "      <td>28</td>\n",
       "      <td>71</td>\n",
       "      <td>30.2</td>\n",
       "      <td>0.364</td>\n",
       "      <td>24</td>\n",
       "      <td>0</td>\n",
       "    </tr>\n",
       "    <tr>\n",
       "      <th>607</th>\n",
       "      <td>5</td>\n",
       "      <td>143</td>\n",
       "      <td>78</td>\n",
       "      <td>0</td>\n",
       "      <td>0</td>\n",
       "      <td>45.0</td>\n",
       "      <td>0.190</td>\n",
       "      <td>47</td>\n",
       "      <td>0</td>\n",
       "    </tr>\n",
       "    <tr>\n",
       "      <th>611</th>\n",
       "      <td>3</td>\n",
       "      <td>121</td>\n",
       "      <td>52</td>\n",
       "      <td>0</td>\n",
       "      <td>0</td>\n",
       "      <td>36.0</td>\n",
       "      <td>0.127</td>\n",
       "      <td>25</td>\n",
       "      <td>1</td>\n",
       "    </tr>\n",
       "    <tr>\n",
       "      <th>613</th>\n",
       "      <td>4</td>\n",
       "      <td>156</td>\n",
       "      <td>75</td>\n",
       "      <td>0</td>\n",
       "      <td>0</td>\n",
       "      <td>48.3</td>\n",
       "      <td>0.238</td>\n",
       "      <td>32</td>\n",
       "      <td>1</td>\n",
       "    </tr>\n",
       "  </tbody>\n",
       "</table>\n",
       "<p>372 rows × 9 columns</p>\n",
       "</div>"
      ],
      "text/plain": [
       "     Pregnancies  Glucose  BloodPressure  SkinThickness  Insulin   BMI  \\\n",
       "0              5       77             82             41       42  35.8   \n",
       "1              9      122             56              0        0  33.3   \n",
       "2              0      113             76              0        0  33.3   \n",
       "3              1      139             62             41      480  40.7   \n",
       "7              2      122             52             43      158  36.2   \n",
       "..           ...      ...            ...            ...      ...   ...   \n",
       "604            2      100             70             52       57  40.5   \n",
       "605            5       86             68             28       71  30.2   \n",
       "607            5      143             78              0        0  45.0   \n",
       "611            3      121             52              0        0  36.0   \n",
       "613            4      156             75              0        0  48.3   \n",
       "\n",
       "     DiabetesPedigreeFunction  Age  Outcome  \n",
       "0                       0.156   35        0  \n",
       "1                       1.114   33        1  \n",
       "2                       0.278   23        1  \n",
       "3                       0.536   21        0  \n",
       "7                       0.816   28        0  \n",
       "..                        ...  ...      ...  \n",
       "604                     0.677   25        0  \n",
       "605                     0.364   24        0  \n",
       "607                     0.190   47        0  \n",
       "611                     0.127   25        1  \n",
       "613                     0.238   32        1  \n",
       "\n",
       "[372 rows x 9 columns]"
      ]
     },
     "execution_count": 26,
     "metadata": {},
     "output_type": "execute_result"
    }
   ],
   "source": [
    "diabetes_data[diabetes_data['BMI']>30]"
   ]
  },
  {
   "cell_type": "code",
   "execution_count": 27,
   "id": "41979c10",
   "metadata": {},
   "outputs": [
    {
     "data": {
      "text/plain": [
       "Pregnancies                 372\n",
       "Glucose                     372\n",
       "BloodPressure               372\n",
       "SkinThickness               372\n",
       "Insulin                     372\n",
       "BMI                         372\n",
       "DiabetesPedigreeFunction    372\n",
       "Age                         372\n",
       "Outcome                     372\n",
       "dtype: int64"
      ]
     },
     "execution_count": 27,
     "metadata": {},
     "output_type": "execute_result"
    }
   ],
   "source": [
    "diabetes_data[diabetes_data['BMI']>30].count()"
   ]
  },
  {
   "cell_type": "code",
   "execution_count": 28,
   "id": "92054fd5",
   "metadata": {},
   "outputs": [
    {
     "data": {
      "text/plain": [
       "372"
      ]
     },
     "execution_count": 28,
     "metadata": {},
     "output_type": "execute_result"
    }
   ],
   "source": [
    "diabetes_data[diabetes_data['BMI']>30].shape[0]"
   ]
  },
  {
   "cell_type": "markdown",
   "id": "2dc27154",
   "metadata": {},
   "source": [
    "<h4>QUESTION 3</h4>\n",
    "Find the <b>mean and standard deviation</b> of the <b>Glucose</b> levels.\n"
   ]
  },
  {
   "cell_type": "code",
   "execution_count": 29,
   "id": "9a273cd0",
   "metadata": {},
   "outputs": [
    {
     "data": {
      "text/html": [
       "<div>\n",
       "<style scoped>\n",
       "    .dataframe tbody tr th:only-of-type {\n",
       "        vertical-align: middle;\n",
       "    }\n",
       "\n",
       "    .dataframe tbody tr th {\n",
       "        vertical-align: top;\n",
       "    }\n",
       "\n",
       "    .dataframe thead th {\n",
       "        text-align: right;\n",
       "    }\n",
       "</style>\n",
       "<table border=\"1\" class=\"dataframe\">\n",
       "  <thead>\n",
       "    <tr style=\"text-align: right;\">\n",
       "      <th></th>\n",
       "      <th>Pregnancies</th>\n",
       "      <th>Glucose</th>\n",
       "      <th>BloodPressure</th>\n",
       "      <th>SkinThickness</th>\n",
       "      <th>Insulin</th>\n",
       "      <th>BMI</th>\n",
       "      <th>DiabetesPedigreeFunction</th>\n",
       "      <th>Age</th>\n",
       "      <th>Outcome</th>\n",
       "    </tr>\n",
       "  </thead>\n",
       "  <tbody>\n",
       "    <tr>\n",
       "      <th>count</th>\n",
       "      <td>614.000000</td>\n",
       "      <td>614.000000</td>\n",
       "      <td>614.000000</td>\n",
       "      <td>614.000000</td>\n",
       "      <td>614.000000</td>\n",
       "      <td>614.000000</td>\n",
       "      <td>614.000000</td>\n",
       "      <td>614.000000</td>\n",
       "      <td>614.000000</td>\n",
       "    </tr>\n",
       "    <tr>\n",
       "      <th>mean</th>\n",
       "      <td>3.845277</td>\n",
       "      <td>121.500000</td>\n",
       "      <td>69.599349</td>\n",
       "      <td>20.400651</td>\n",
       "      <td>79.035831</td>\n",
       "      <td>32.210423</td>\n",
       "      <td>0.476373</td>\n",
       "      <td>33.289902</td>\n",
       "      <td>0.350163</td>\n",
       "    </tr>\n",
       "    <tr>\n",
       "      <th>std</th>\n",
       "      <td>3.403362</td>\n",
       "      <td>32.275918</td>\n",
       "      <td>18.924485</td>\n",
       "      <td>16.113962</td>\n",
       "      <td>117.108037</td>\n",
       "      <td>7.965291</td>\n",
       "      <td>0.343502</td>\n",
       "      <td>11.837425</td>\n",
       "      <td>0.477410</td>\n",
       "    </tr>\n",
       "    <tr>\n",
       "      <th>min</th>\n",
       "      <td>0.000000</td>\n",
       "      <td>0.000000</td>\n",
       "      <td>0.000000</td>\n",
       "      <td>0.000000</td>\n",
       "      <td>0.000000</td>\n",
       "      <td>0.000000</td>\n",
       "      <td>0.078000</td>\n",
       "      <td>21.000000</td>\n",
       "      <td>0.000000</td>\n",
       "    </tr>\n",
       "    <tr>\n",
       "      <th>25%</th>\n",
       "      <td>1.000000</td>\n",
       "      <td>99.000000</td>\n",
       "      <td>62.500000</td>\n",
       "      <td>0.000000</td>\n",
       "      <td>0.000000</td>\n",
       "      <td>27.125000</td>\n",
       "      <td>0.239250</td>\n",
       "      <td>24.000000</td>\n",
       "      <td>0.000000</td>\n",
       "    </tr>\n",
       "    <tr>\n",
       "      <th>50%</th>\n",
       "      <td>3.000000</td>\n",
       "      <td>117.000000</td>\n",
       "      <td>72.000000</td>\n",
       "      <td>22.500000</td>\n",
       "      <td>24.000000</td>\n",
       "      <td>32.150000</td>\n",
       "      <td>0.369000</td>\n",
       "      <td>29.000000</td>\n",
       "      <td>0.000000</td>\n",
       "    </tr>\n",
       "    <tr>\n",
       "      <th>75%</th>\n",
       "      <td>6.000000</td>\n",
       "      <td>141.000000</td>\n",
       "      <td>80.000000</td>\n",
       "      <td>33.000000</td>\n",
       "      <td>127.500000</td>\n",
       "      <td>36.775000</td>\n",
       "      <td>0.639250</td>\n",
       "      <td>41.000000</td>\n",
       "      <td>1.000000</td>\n",
       "    </tr>\n",
       "    <tr>\n",
       "      <th>max</th>\n",
       "      <td>17.000000</td>\n",
       "      <td>199.000000</td>\n",
       "      <td>122.000000</td>\n",
       "      <td>99.000000</td>\n",
       "      <td>846.000000</td>\n",
       "      <td>67.100000</td>\n",
       "      <td>2.420000</td>\n",
       "      <td>81.000000</td>\n",
       "      <td>1.000000</td>\n",
       "    </tr>\n",
       "  </tbody>\n",
       "</table>\n",
       "</div>"
      ],
      "text/plain": [
       "       Pregnancies     Glucose  BloodPressure  SkinThickness     Insulin  \\\n",
       "count   614.000000  614.000000     614.000000     614.000000  614.000000   \n",
       "mean      3.845277  121.500000      69.599349      20.400651   79.035831   \n",
       "std       3.403362   32.275918      18.924485      16.113962  117.108037   \n",
       "min       0.000000    0.000000       0.000000       0.000000    0.000000   \n",
       "25%       1.000000   99.000000      62.500000       0.000000    0.000000   \n",
       "50%       3.000000  117.000000      72.000000      22.500000   24.000000   \n",
       "75%       6.000000  141.000000      80.000000      33.000000  127.500000   \n",
       "max      17.000000  199.000000     122.000000      99.000000  846.000000   \n",
       "\n",
       "              BMI  DiabetesPedigreeFunction         Age     Outcome  \n",
       "count  614.000000                614.000000  614.000000  614.000000  \n",
       "mean    32.210423                  0.476373   33.289902    0.350163  \n",
       "std      7.965291                  0.343502   11.837425    0.477410  \n",
       "min      0.000000                  0.078000   21.000000    0.000000  \n",
       "25%     27.125000                  0.239250   24.000000    0.000000  \n",
       "50%     32.150000                  0.369000   29.000000    0.000000  \n",
       "75%     36.775000                  0.639250   41.000000    1.000000  \n",
       "max     67.100000                  2.420000   81.000000    1.000000  "
      ]
     },
     "execution_count": 29,
     "metadata": {},
     "output_type": "execute_result"
    }
   ],
   "source": [
    "diabetes_data.describe()"
   ]
  },
  {
   "cell_type": "code",
   "execution_count": 30,
   "id": "81453ea6",
   "metadata": {},
   "outputs": [
    {
     "name": "stdout",
     "output_type": "stream",
     "text": [
      "MEAN OF GLUCOSE LEVELS : 121.5\n"
     ]
    }
   ],
   "source": [
    "print(f\"MEAN OF GLUCOSE LEVELS : {diabetes_data['Glucose'].mean()}\")"
   ]
  },
  {
   "cell_type": "code",
   "execution_count": 31,
   "id": "5db28ea0",
   "metadata": {},
   "outputs": [
    {
     "name": "stdout",
     "output_type": "stream",
     "text": [
      "STANDARD DEVIATION OF GLUCOSE LEVELS : 32.27591842655023\n"
     ]
    }
   ],
   "source": [
    "print(f\"STANDARD DEVIATION OF GLUCOSE LEVELS : {diabetes_data['Glucose'].std()}\")"
   ]
  },
  {
   "cell_type": "markdown",
   "id": "6e5ebd55",
   "metadata": {},
   "source": [
    "<h4>QUESTION 4</h4>\n",
    "Plot a <b>boxplot</b> for the column <b>Insulin</b>.  \n"
   ]
  },
  {
   "cell_type": "code",
   "execution_count": 32,
   "id": "f363b316",
   "metadata": {},
   "outputs": [
    {
     "data": {
      "text/plain": [
       "<Axes: ylabel='Insulin'>"
      ]
     },
     "execution_count": 32,
     "metadata": {},
     "output_type": "execute_result"
    },
    {
     "data": {
      "image/png": "[encoded data removed]",
      "text/plain": [
       "<Figure size 640x480 with 1 Axes>"
      ]
     },
     "metadata": {},
     "output_type": "display_data"
    }
   ],
   "source": [
    "sns.boxplot(diabetes_data['Insulin'])"
   ]
  },
  {
   "cell_type": "markdown",
   "id": "bf8770ab",
   "metadata": {},
   "source": [
    "<h4>QUESTION 5</h4>\n",
    "Create a <b>heatmap</b> showing the correlation between the numerical columns in the dataset.\n"
   ]
  },
  {
   "cell_type": "code",
   "execution_count": 38,
   "id": "4bd3ac0f",
   "metadata": {},
   "outputs": [
    {
     "data": {
      "text/plain": [
       "<Axes: >"
      ]
     },
     "execution_count": 38,
     "metadata": {},
     "output_type": "execute_result"
    },
    {
     "data": {
      "image/png": "[encoded data removed]",
      "text/plain": [
       "<Figure size 640x480 with 2 Axes>"
      ]
     },
     "metadata": {},
     "output_type": "display_data"
    }
   ],
   "source": [
    "sns.heatmap(diabetes_data.corr(),cmap='coolwarm')"
   ]
  }
 ],
 "metadata": {
  "kernelspec": {
   "display_name": "Python 3",
   "language": "python",
   "name": "python3"
  },
  "language_info": {
   "codemirror_mode": {
    "name": "ipython",
    "version": 3
   },
   "file_extension": ".py",
   "mimetype": "text/x-python",
   "name": "python",
   "nbconvert_exporter": "python",
   "pygments_lexer": "ipython3",
   "version": "3.11.5"
  }
 },
 "nbformat": 4,
 "nbformat_minor": 5
}
