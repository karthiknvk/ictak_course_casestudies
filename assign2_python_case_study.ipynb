{
 "cells": [
  {
   "cell_type": "markdown",
   "metadata": {},
   "source": [
    "<h2>PYTHON CASESTUDY</h2>"
   ]
  },
  {
   "cell_type": "markdown",
   "metadata": {},
   "source": [
    "<h4>QUESTION 1</h4>\n"
   ]
  },
  {
   "cell_type": "markdown",
   "metadata": {},
   "source": [
    "<b>Grocery Store Bill Calculator</b>"
   ]
  },
  {
   "cell_type": "markdown",
   "metadata": {},
   "source": [
    "<pre>A grocery store wants a program to calculate the total bill for a customer.\n",
    "a. Store the prices of items in a dictionary (e.g., {'apple': 10, 'milk': 50})\n",
    "b. Take the items purchased and their quantities as input.\n",
    "c. Calculate and display the total bill amount.</pre>"
   ]
  },
  {
   "cell_type": "code",
   "execution_count": 13,
   "metadata": {},
   "outputs": [],
   "source": [
    "cust_grocery_items={\"apple\":50,\"milk\":30,\"egg\":18,\"orange\":40,\"bread\":20,\"cheese\":40}"
   ]
  },
  {
   "cell_type": "code",
   "execution_count": 14,
   "metadata": {},
   "outputs": [
    {
     "name": "stdout",
     "output_type": "stream",
     "text": [
      "ITEM          AMOUNT\n",
      "--------------------\n",
      "APPLE       :  50\n",
      "MILK        :  30\n",
      "EGG         :  18\n",
      "ORANGE      :  40\n",
      "BREAD       :  20\n",
      "CHEESE      :  40\n",
      "--------------------\n",
      "TOTAL       : 198\n",
      "--------------------\n"
     ]
    }
   ],
   "source": [
    "total_bill=0\n",
    "print(f\"ITEM          AMOUNT\")\n",
    "print(f\"--------------------\")\n",
    "for item,price in cust_grocery_items.items():\n",
    "  print(item.upper(),\" \"*(10-len(item)),\": \",price)\n",
    "  total_bill=total_bill+price\n",
    "print(f\"--------------------\")\n",
    "print(f\"TOTAL       : {total_bill}\")\n",
    "print(f\"--------------------\")\n"
   ]
  },
  {
   "cell_type": "markdown",
   "metadata": {},
   "source": [
    "<h4>QUESTION 2</h4>\n"
   ]
  },
  {
   "cell_type": "markdown",
   "metadata": {},
   "source": [
    "<b>Student Grade Calculator</b>"
   ]
  },
  {
   "cell_type": "markdown",
   "metadata": {},
   "source": [
    "<pre>A teacher wants a program to calculate grades for students based on their marks.\n",
    "a. Store marks for 5 subjects in a list.\n",
    "b. Calculate the average and determine the grade:\n",
    "    o 90+ -> A\n",
    "    o 70-89 -> B\n",
    "    o 50-69 -> C\n",
    "    o <50 -> F\n",
    "c. Display the average and the grade.</pre>"
   ]
  },
  {
   "cell_type": "code",
   "execution_count": 15,
   "metadata": {},
   "outputs": [
    {
     "data": {
      "text/plain": [
       "'\\nGRADE SYSTEM \\n\\n>90    : A\\n70-89  : B\\n50-69  : C\\n<50    : F\\n'"
      ]
     },
     "execution_count": 15,
     "metadata": {},
     "output_type": "execute_result"
    }
   ],
   "source": [
    "\"\"\"\n",
    "GRADE SYSTEM \n",
    "\n",
    ">90    : A\n",
    "70-89  : B\n",
    "50-69  : C\n",
    "<50    : F\n",
    "\"\"\""
   ]
  },
  {
   "cell_type": "code",
   "execution_count": 16,
   "metadata": {},
   "outputs": [],
   "source": [
    "#subjects for mark in English,Mathematics,Physics,Chemistry,Biology out of 100\n",
    "students_mark_list=[\n",
    "  [90,95,93,90,97],\n",
    "  [60,71,80,75,80],\n",
    "  [45,30,51,46,57],\n",
    "  [47,53,65,59,67]\n",
    "]"
   ]
  },
  {
   "cell_type": "code",
   "execution_count": 17,
   "metadata": {},
   "outputs": [
    {
     "name": "stdout",
     "output_type": "stream",
     "text": [
      "STUDENT   :  AVERAGE   :  GRADE\n",
      "--------     -------     -----\n",
      "Student1  :    93.0    :    A\n",
      "Student2  :    73.2    :    B\n",
      "Student3  :    45.8    :    F\n",
      "Student4  :    58.2    :    C\n"
     ]
    }
   ],
   "source": [
    "print(\"STUDENT   :  AVERAGE   :  GRADE\")\n",
    "print(\"--------     -------     -----\")\n",
    "i=1\n",
    "for student in students_mark_list:\n",
    "  grade=None\n",
    "  average=0\n",
    "  total_mark=0\n",
    "  for mark in student:\n",
    "    total_mark=total_mark+mark\n",
    "  average=total_mark/5\n",
    "  if average>=90:\n",
    "    grade=\"A\"\n",
    "  elif average>=70 and average<90:\n",
    "    grade=\"B\" \n",
    "  elif average>=50 and average<70:\n",
    "    grade=\"C\"\n",
    "  else:\n",
    "    grade=\"F\" \n",
    "\n",
    "  print(f\"Student{i}  :    {average}    :    {grade}\")\n",
    "  i=i+1"
   ]
  },
  {
   "cell_type": "markdown",
   "metadata": {},
   "source": [
    "<h4>QUESTION 3</h4>\n"
   ]
  },
  {
   "cell_type": "markdown",
   "metadata": {},
   "source": [
    "<b>A movie theatre wants to automate ticket booking for customers.</b>"
   ]
  },
  {
   "cell_type": "markdown",
   "metadata": {},
   "source": [
    "<pre>a. Use a list to store the available seats (e.g., [1, 2, 3, ..., 20]).\n",
    "b. Allow the customer to book a seat by entering the seat number.\n",
    "c. After booking, remove the seat from the list of available seats.\n",
    "d. Display the remaining available seats</pre>"
   ]
  },
  {
   "cell_type": "code",
   "execution_count": 20,
   "metadata": {},
   "outputs": [
    {
     "name": "stdout",
     "output_type": "stream",
     "text": [
      "TICKET BOOKING PROCESS\n",
      "----------------------\n",
      "AVAILABLE SEATS : [1, 2, 3, 4, 5, 6, 7, 8, 9, 10, 11, 12, 13, 14, 15, 16, 17, 18, 19, 20]\n",
      "Enter 1 to book ticket\n",
      "Enter 0 to exit\n",
      "Selecting ticket process......\n",
      "Ticket booked successfully : SEAT NUMBER 5\n",
      "REMAINING SEATS : [1, 2, 3, 4, 6, 7, 8, 9, 10, 11, 12, 13, 14, 15, 16, 17, 18, 19, 20]\n",
      "Enter 1 to book ticket\n",
      "Enter 0 to exit\n",
      "Selecting ticket process......\n",
      "Ticket booked successfully : SEAT NUMBER 10\n",
      "REMAINING SEATS : [1, 2, 3, 4, 6, 7, 8, 9, 11, 12, 13, 14, 15, 16, 17, 18, 19, 20]\n",
      "Enter 1 to book ticket\n",
      "Enter 0 to exit\n",
      "Selecting ticket process......\n",
      "Ticket booked successfully : SEAT NUMBER 19\n",
      "REMAINING SEATS : [1, 2, 3, 4, 6, 7, 8, 9, 11, 12, 13, 14, 15, 16, 17, 18, 20]\n",
      "Enter 1 to book ticket\n",
      "Enter 0 to exit\n",
      "Exiting.....\n"
     ]
    }
   ],
   "source": [
    "print(\"TICKET BOOKING PROCESS\")\n",
    "print(\"----------------------\")\n",
    "ticket_seats=[1,2,3,4,5,6,7,8,9,10,11,12,13,14,15,16,17,18,19,20]\n",
    "choice=None\n",
    "print(f\"AVAILABLE SEATS : {ticket_seats}\")\n",
    "while choice!=0:\n",
    "  print(f\"Enter 1 to book ticket\")\n",
    "  print(f\"Enter 0 to exit\")\n",
    "  choice=int(input(\"Enter option : \"))\n",
    "  if choice==1:\n",
    "    print(\"Selecting ticket process......\")\n",
    "    booked_seat=int(input(\"Enter seat number to be booked : \"))\n",
    "    if booked_seat in ticket_seats:\n",
    "      print(f\"Ticket booked successfully : SEAT NUMBER {booked_seat}\")\n",
    "      ticket_seats.remove(booked_seat)\n",
    "    elif booked_seat not in ticket_seats or booked_seat==\"\":\n",
    "      print(f\"Entered seat not available\")\n",
    "    print(f\"REMAINING SEATS : {ticket_seats}\")\n",
    "  elif choice==0:\n",
    "    print(\"Exiting.....\")\n",
    "    break\n",
    "  else:\n",
    "    print(\"Enter valid option\")"
   ]
  },
  {
   "cell_type": "code",
   "execution_count": null,
   "metadata": {},
   "outputs": [],
   "source": []
  }
 ],
 "metadata": {
  "kernelspec": {
   "display_name": "Python 3",
   "language": "python",
   "name": "python3"
  },
  "language_info": {
   "codemirror_mode": {
    "name": "ipython",
    "version": 3
   },
   "file_extension": ".py",
   "mimetype": "text/x-python",
   "name": "python",
   "nbconvert_exporter": "python",
   "pygments_lexer": "ipython3",
   "version": "3.11.5"
  }
 },
 "nbformat": 4,
 "nbformat_minor": 2
}
