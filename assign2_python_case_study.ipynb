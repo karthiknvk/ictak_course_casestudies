{
 "cells": [
  {
   "cell_type": "markdown",
   "metadata": {},
   "source": [
    "<h4>QUESTION 1</h4>\n"
   ]
  },
  {
   "cell_type": "markdown",
   "metadata": {},
   "source": [
    "<b>Grocery Store Bill Calculator</b>"
   ]
  },
  {
   "cell_type": "markdown",
   "metadata": {},
   "source": [
    "<pre>A grocery store wants a program to calculate the total bill for a customer.\n",
    "a. Store the prices of items in a dictionary (e.g., {'apple': 10, 'milk': 50})\n",
    "b. Take the items purchased and their quantities as input.\n",
    "c. Calculate and display the total bill amount.</pre>"
   ]
  },
  {
   "cell_type": "code",
   "execution_count": 36,
   "metadata": {},
   "outputs": [],
   "source": [
    "cust_grocery_items={\"apple\":50,\"milk\":30,\"egg\":18,\"orange\":40,\"bread\":20,\"cheese\":40}"
   ]
  },
  {
   "cell_type": "code",
   "execution_count": 37,
   "metadata": {},
   "outputs": [
    {
     "name": "stdout",
     "output_type": "stream",
     "text": [
      "APPLE:50\n",
      "MILK:30\n",
      "EGG:18\n",
      "ORANGE:40\n",
      "BREAD:20\n",
      "CHEESE:40\n",
      "----------------\n",
      "TOTAL : 198\n",
      "----------------\n"
     ]
    }
   ],
   "source": [
    "total_bill=0\n",
    "for item,price in cust_grocery_items.items():\n",
    "  print(f\"{item.upper()}:{price}\")\n",
    "  total_bill=total_bill+price\n",
    "print(f\"----------------\")\n",
    "print(f\"TOTAL : {total_bill}\")\n",
    "print(f\"----------------\")\n"
   ]
  },
  {
   "cell_type": "markdown",
   "metadata": {},
   "source": [
    "<h4>QUESTION 2</h4>\n"
   ]
  },
  {
   "cell_type": "markdown",
   "metadata": {},
   "source": [
    "<b>Student Grade Calculator</b>"
   ]
  },
  {
   "cell_type": "markdown",
   "metadata": {},
   "source": [
    "<pre>A teacher wants a program to calculate grades for students based on their marks.\n",
    "a. Store marks for 5 subjects in a list.\n",
    "b. Calculate the average and determine the grade:\n",
    "    o 90+ -> A\n",
    "    o 70-89 -> B\n",
    "    o 50-69 -> C\n",
    "    o <50 -> F\n",
    "c. Display the average and the grade.</pre>"
   ]
  },
  {
   "cell_type": "code",
   "execution_count": 38,
   "metadata": {},
   "outputs": [
    {
     "data": {
      "text/plain": [
       "'\\nGRADE SYSTEM \\n\\n>90    : A\\n70-89  : B\\n50-69  : C\\n<50    : F\\n'"
      ]
     },
     "execution_count": 38,
     "metadata": {},
     "output_type": "execute_result"
    }
   ],
   "source": [
    "\"\"\"\n",
    "GRADE SYSTEM \n",
    "\n",
    ">90    : A\n",
    "70-89  : B\n",
    "50-69  : C\n",
    "<50    : F\n",
    "\"\"\""
   ]
  },
  {
   "cell_type": "code",
   "execution_count": 39,
   "metadata": {},
   "outputs": [],
   "source": [
    "#subjects for mark in English,Mathematics,Physics,Chemistry,Biology out of 100\n",
    "students_mark_list=[\n",
    "  [90,95,93,90,97],\n",
    "  [60,71,80,75,80],\n",
    "  [45,30,51,46,57],\n",
    "  [47,53,65,59,67]\n",
    "]"
   ]
  },
  {
   "cell_type": "code",
   "execution_count": 40,
   "metadata": {},
   "outputs": [
    {
     "name": "stdout",
     "output_type": "stream",
     "text": [
      "STUDENT   :  AVERAGE  :  GRADE\n",
      "--------     -------     -----\n",
      "Student1  :    93.0    :    A\n",
      "Student2  :    73.2    :    B\n",
      "Student3  :    45.8    :    F\n",
      "Student4  :    58.2    :    C\n"
     ]
    }
   ],
   "source": [
    "print(\"STUDENT   :  AVERAGE  :  GRADE\")\n",
    "print(\"--------     -------     -----\")\n",
    "i=1\n",
    "for student in students_mark_list:\n",
    "  grade=None\n",
    "  average=0\n",
    "  total_mark=0\n",
    "  for mark in student:\n",
    "    total_mark=total_mark+mark\n",
    "  average=total_mark/5\n",
    "  if average>=90:\n",
    "    grade=\"A\"\n",
    "  elif average>=70 and average<90:\n",
    "    grade=\"B\" \n",
    "  elif average>=50 and average<70:\n",
    "    grade=\"C\"\n",
    "  else:\n",
    "    grade=\"F\" \n",
    "\n",
    "  print(f\"Student{i}  :    {average}    :    {grade}\")\n",
    "  i=i+1"
   ]
  },
  {
   "cell_type": "markdown",
   "metadata": {},
   "source": [
    "<h4>QUESTION 3</h4>\n"
   ]
  },
  {
   "cell_type": "markdown",
   "metadata": {},
   "source": [
    "<b>A movie theatre wants to automate ticket booking for customers.</b>"
   ]
  },
  {
   "cell_type": "markdown",
   "metadata": {},
   "source": [
    "<pre>a. Use a list to store the available seats (e.g., [1, 2, 3, ..., 20]).\n",
    "b. Allow the customer to book a seat by entering the seat number.\n",
    "c. After booking, remove the seat from the list of available seats.\n",
    "d. Display the remaining available seats</pre>"
   ]
  },
  {
   "cell_type": "code",
   "execution_count": 41,
   "metadata": {},
   "outputs": [],
   "source": [
    "ticket_seats=[1,2,3,4,5,6,7,8,9,10,11,12,13,14,15,16,17,18,19,20]"
   ]
  },
  {
   "cell_type": "code",
   "execution_count": 42,
   "metadata": {},
   "outputs": [
    {
     "name": "stdout",
     "output_type": "stream",
     "text": [
      "AVAILABLE SEATS : [1, 2, 3, 4, 5, 6, 7, 8, 9, 10, 11, 12, 13, 14, 15, 16, 17, 18, 19, 20]\n",
      "Selected seat   : 10\n",
      "Ticket booked successfully \n",
      "SEAT NUMBER 10\n",
      "REMAINING SEATS : [1, 2, 3, 4, 5, 6, 7, 8, 9, 11, 12, 13, 14, 15, 16, 17, 18, 19, 20]\n"
     ]
    }
   ],
   "source": [
    "print(f\"AVAILABLE SEATS : {ticket_seats}\")\n",
    "booked_seat=input(\"Enter seat number to be booked : \")\n",
    "print(f\"Selected seat   : {booked_seat}\")\n",
    "\n",
    "if booked_seat==\"\":\n",
    "  print(\"Seat not entered\")\n",
    "else:\n",
    "  booked_seat=int(booked_seat)\n",
    "  if booked_seat in ticket_seats:\n",
    "    print(f\"Ticket booked successfully \")\n",
    "    print(f\"SEAT NUMBER {booked_seat}\")\n",
    "    ticket_seats.remove(booked_seat)\n",
    "  else:\n",
    "    print(f\"Entered seat not available\")\n",
    " \n",
    "print(f\"REMAINING SEATS : {ticket_seats}\")"
   ]
  }
 ],
 "metadata": {
  "kernelspec": {
   "display_name": "Python 3",
   "language": "python",
   "name": "python3"
  },
  "language_info": {
   "codemirror_mode": {
    "name": "ipython",
    "version": 3
   },
   "file_extension": ".py",
   "mimetype": "text/x-python",
   "name": "python",
   "nbconvert_exporter": "python",
   "pygments_lexer": "ipython3",
   "version": "3.11.5"
  }
 },
 "nbformat": 4,
 "nbformat_minor": 2
}
